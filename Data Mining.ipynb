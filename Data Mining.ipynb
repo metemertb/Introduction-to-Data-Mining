{
 "cells": [
  {
   "cell_type": "markdown",
   "id": "hollywood-plastic",
   "metadata": {},
   "source": [
    "## Library Imports"
   ]
  },
  {
   "cell_type": "markdown",
   "id": "environmental-liver",
   "metadata": {},
   "source": [
    "Here are the libraries that I will use."
   ]
  },
  {
   "cell_type": "code",
   "execution_count": 1,
   "id": "changed-positive",
   "metadata": {},
   "outputs": [],
   "source": [
    "import patoolib\n",
    "import pandas as pd\n",
    "import numpy as np\n",
    "import matplotlib.pyplot as plt\n",
    "import seaborn as sns\n",
    "from sklearn.cluster import KMeans"
   ]
  },
  {
   "cell_type": "code",
   "execution_count": 2,
   "id": "prescribed-printer",
   "metadata": {},
   "outputs": [],
   "source": [
    "#patoolib.extract_archive(\"Dataset.rar\")"
   ]
  },
  {
   "cell_type": "markdown",
   "id": "loving-geneva",
   "metadata": {},
   "source": [
    "## Dataframe Operations"
   ]
  },
  {
   "cell_type": "markdown",
   "id": "contrary-difficulty",
   "metadata": {},
   "source": [
    "After unzipping the rar file, I read data.csv into a dataframe."
   ]
  },
  {
   "cell_type": "code",
   "execution_count": 3,
   "id": "exclusive-handbook",
   "metadata": {},
   "outputs": [
    {
     "data": {
      "text/html": [
       "<div>\n",
       "<style scoped>\n",
       "    .dataframe tbody tr th:only-of-type {\n",
       "        vertical-align: middle;\n",
       "    }\n",
       "\n",
       "    .dataframe tbody tr th {\n",
       "        vertical-align: top;\n",
       "    }\n",
       "\n",
       "    .dataframe thead th {\n",
       "        text-align: right;\n",
       "    }\n",
       "</style>\n",
       "<table border=\"1\" class=\"dataframe\">\n",
       "  <thead>\n",
       "    <tr style=\"text-align: right;\">\n",
       "      <th></th>\n",
       "      <th>Date</th>\n",
       "      <th>Time</th>\n",
       "      <th>CO(GT)</th>\n",
       "      <th>PT08.S1(CO)</th>\n",
       "      <th>NMHC(GT)</th>\n",
       "      <th>C6H6(GT)</th>\n",
       "      <th>PT08.S2(NMHC)</th>\n",
       "      <th>NOx(GT)</th>\n",
       "      <th>PT08.S3(NOx)</th>\n",
       "      <th>NO2(GT)</th>\n",
       "      <th>PT08.S4(NO2)</th>\n",
       "      <th>PT08.S5(O3)</th>\n",
       "      <th>T</th>\n",
       "      <th>RH</th>\n",
       "      <th>AH</th>\n",
       "      <th>Unnamed: 15</th>\n",
       "      <th>Unnamed: 16</th>\n",
       "    </tr>\n",
       "  </thead>\n",
       "  <tbody>\n",
       "    <tr>\n",
       "      <th>0</th>\n",
       "      <td>10/03/2004</td>\n",
       "      <td>18.00.00</td>\n",
       "      <td>2,6</td>\n",
       "      <td>1360.0</td>\n",
       "      <td>150.0</td>\n",
       "      <td>11,9</td>\n",
       "      <td>1046.0</td>\n",
       "      <td>166.0</td>\n",
       "      <td>1056.0</td>\n",
       "      <td>113.0</td>\n",
       "      <td>1692.0</td>\n",
       "      <td>1268.0</td>\n",
       "      <td>13,6</td>\n",
       "      <td>48,9</td>\n",
       "      <td>0,7578</td>\n",
       "      <td>NaN</td>\n",
       "      <td>NaN</td>\n",
       "    </tr>\n",
       "    <tr>\n",
       "      <th>1</th>\n",
       "      <td>10/03/2004</td>\n",
       "      <td>19.00.00</td>\n",
       "      <td>2</td>\n",
       "      <td>1292.0</td>\n",
       "      <td>112.0</td>\n",
       "      <td>9,4</td>\n",
       "      <td>955.0</td>\n",
       "      <td>103.0</td>\n",
       "      <td>1174.0</td>\n",
       "      <td>92.0</td>\n",
       "      <td>1559.0</td>\n",
       "      <td>972.0</td>\n",
       "      <td>13,3</td>\n",
       "      <td>47,7</td>\n",
       "      <td>0,7255</td>\n",
       "      <td>NaN</td>\n",
       "      <td>NaN</td>\n",
       "    </tr>\n",
       "    <tr>\n",
       "      <th>2</th>\n",
       "      <td>10/03/2004</td>\n",
       "      <td>20.00.00</td>\n",
       "      <td>2,2</td>\n",
       "      <td>1402.0</td>\n",
       "      <td>88.0</td>\n",
       "      <td>9,0</td>\n",
       "      <td>939.0</td>\n",
       "      <td>131.0</td>\n",
       "      <td>1140.0</td>\n",
       "      <td>114.0</td>\n",
       "      <td>1555.0</td>\n",
       "      <td>1074.0</td>\n",
       "      <td>11,9</td>\n",
       "      <td>54,0</td>\n",
       "      <td>0,7502</td>\n",
       "      <td>NaN</td>\n",
       "      <td>NaN</td>\n",
       "    </tr>\n",
       "    <tr>\n",
       "      <th>3</th>\n",
       "      <td>10/03/2004</td>\n",
       "      <td>21.00.00</td>\n",
       "      <td>2,2</td>\n",
       "      <td>1376.0</td>\n",
       "      <td>80.0</td>\n",
       "      <td>9,2</td>\n",
       "      <td>948.0</td>\n",
       "      <td>172.0</td>\n",
       "      <td>1092.0</td>\n",
       "      <td>122.0</td>\n",
       "      <td>1584.0</td>\n",
       "      <td>1203.0</td>\n",
       "      <td>11,0</td>\n",
       "      <td>60,0</td>\n",
       "      <td>0,7867</td>\n",
       "      <td>NaN</td>\n",
       "      <td>NaN</td>\n",
       "    </tr>\n",
       "    <tr>\n",
       "      <th>4</th>\n",
       "      <td>10/03/2004</td>\n",
       "      <td>22.00.00</td>\n",
       "      <td>1,6</td>\n",
       "      <td>1272.0</td>\n",
       "      <td>51.0</td>\n",
       "      <td>6,5</td>\n",
       "      <td>836.0</td>\n",
       "      <td>131.0</td>\n",
       "      <td>1205.0</td>\n",
       "      <td>116.0</td>\n",
       "      <td>1490.0</td>\n",
       "      <td>1110.0</td>\n",
       "      <td>11,2</td>\n",
       "      <td>59,6</td>\n",
       "      <td>0,7888</td>\n",
       "      <td>NaN</td>\n",
       "      <td>NaN</td>\n",
       "    </tr>\n",
       "  </tbody>\n",
       "</table>\n",
       "</div>"
      ],
      "text/plain": [
       "         Date      Time CO(GT)  PT08.S1(CO)  NMHC(GT) C6H6(GT)  PT08.S2(NMHC)  \\\n",
       "0  10/03/2004  18.00.00    2,6       1360.0     150.0     11,9         1046.0   \n",
       "1  10/03/2004  19.00.00      2       1292.0     112.0      9,4          955.0   \n",
       "2  10/03/2004  20.00.00    2,2       1402.0      88.0      9,0          939.0   \n",
       "3  10/03/2004  21.00.00    2,2       1376.0      80.0      9,2          948.0   \n",
       "4  10/03/2004  22.00.00    1,6       1272.0      51.0      6,5          836.0   \n",
       "\n",
       "   NOx(GT)  PT08.S3(NOx)  NO2(GT)  PT08.S4(NO2)  PT08.S5(O3)     T    RH  \\\n",
       "0    166.0        1056.0    113.0        1692.0       1268.0  13,6  48,9   \n",
       "1    103.0        1174.0     92.0        1559.0        972.0  13,3  47,7   \n",
       "2    131.0        1140.0    114.0        1555.0       1074.0  11,9  54,0   \n",
       "3    172.0        1092.0    122.0        1584.0       1203.0  11,0  60,0   \n",
       "4    131.0        1205.0    116.0        1490.0       1110.0  11,2  59,6   \n",
       "\n",
       "       AH  Unnamed: 15  Unnamed: 16  \n",
       "0  0,7578          NaN          NaN  \n",
       "1  0,7255          NaN          NaN  \n",
       "2  0,7502          NaN          NaN  \n",
       "3  0,7867          NaN          NaN  \n",
       "4  0,7888          NaN          NaN  "
      ]
     },
     "execution_count": 3,
     "metadata": {},
     "output_type": "execute_result"
    }
   ],
   "source": [
    "df = pd.read_csv('Dataset/data.csv', sep=\";\")\n",
    "df.head()"
   ]
  },
  {
   "cell_type": "code",
   "execution_count": 4,
   "id": "pursuant-seattle",
   "metadata": {},
   "outputs": [
    {
     "data": {
      "text/plain": [
       "Index(['Date', 'Time', 'CO(GT)', 'PT08.S1(CO)', 'NMHC(GT)', 'C6H6(GT)',\n",
       "       'PT08.S2(NMHC)', 'NOx(GT)', 'PT08.S3(NOx)', 'NO2(GT)', 'PT08.S4(NO2)',\n",
       "       'PT08.S5(O3)', 'T', 'RH', 'AH', 'Unnamed: 15', 'Unnamed: 16'],\n",
       "      dtype='object')"
      ]
     },
     "execution_count": 4,
     "metadata": {},
     "output_type": "execute_result"
    }
   ],
   "source": [
    "df.columns"
   ]
  },
  {
   "cell_type": "code",
   "execution_count": 5,
   "id": "accompanied-plumbing",
   "metadata": {
    "scrolled": true
   },
   "outputs": [
    {
     "name": "stdout",
     "output_type": "stream",
     "text": [
      "Length of data is:  9471\n"
     ]
    }
   ],
   "source": [
    "print(\"Length of data is: \" , len(df))"
   ]
  },
  {
   "cell_type": "markdown",
   "id": "industrial-destination",
   "metadata": {},
   "source": [
    "We can see that data is too noisy, it has to be processed."
   ]
  },
  {
   "cell_type": "code",
   "execution_count": 6,
   "id": "confidential-dictionary",
   "metadata": {},
   "outputs": [
    {
     "data": {
      "text/plain": [
       "<AxesSubplot:>"
      ]
     },
     "execution_count": 6,
     "metadata": {},
     "output_type": "execute_result"
    },
    {
     "data": {
      "image/png": "[encoded data removed]",
      "text/plain": [
       "<Figure size 576x576 with 1 Axes>"
      ]
     },
     "metadata": {
      "needs_background": "light"
     },
     "output_type": "display_data"
    }
   ],
   "source": [
    "df.plot(figsize=(8, 8))"
   ]
  },
  {
   "cell_type": "markdown",
   "id": "intimate-distributor",
   "metadata": {},
   "source": [
    "## Data Cleaning"
   ]
  },
  {
   "cell_type": "markdown",
   "id": "legal-matthew",
   "metadata": {},
   "source": [
    "Data is cleaned through processes such as filling in missing\n",
    "values, smoothing the noisy data, identify outliers or resolving the\n",
    "inconsistencies in the data.\n",
    "\n",
    "Last 2 rows named Unnamed:15 and Unnamed:16 was fully NaN and inconsistent, so I dropped them."
   ]
  },
  {
   "cell_type": "code",
   "execution_count": 7,
   "id": "controlled-invasion",
   "metadata": {},
   "outputs": [],
   "source": [
    "df.drop(columns=df.columns[-2:], axis=1, inplace=True) "
   ]
  },
  {
   "cell_type": "code",
   "execution_count": 8,
   "id": "meaningful-break",
   "metadata": {
    "scrolled": true
   },
   "outputs": [
    {
     "data": {
      "text/html": [
       "<div>\n",
       "<style scoped>\n",
       "    .dataframe tbody tr th:only-of-type {\n",
       "        vertical-align: middle;\n",
       "    }\n",
       "\n",
       "    .dataframe tbody tr th {\n",
       "        vertical-align: top;\n",
       "    }\n",
       "\n",
       "    .dataframe thead th {\n",
       "        text-align: right;\n",
       "    }\n",
       "</style>\n",
       "<table border=\"1\" class=\"dataframe\">\n",
       "  <thead>\n",
       "    <tr style=\"text-align: right;\">\n",
       "      <th></th>\n",
       "      <th>Date</th>\n",
       "      <th>Time</th>\n",
       "      <th>CO(GT)</th>\n",
       "      <th>PT08.S1(CO)</th>\n",
       "      <th>NMHC(GT)</th>\n",
       "      <th>C6H6(GT)</th>\n",
       "      <th>PT08.S2(NMHC)</th>\n",
       "      <th>NOx(GT)</th>\n",
       "      <th>PT08.S3(NOx)</th>\n",
       "      <th>NO2(GT)</th>\n",
       "      <th>PT08.S4(NO2)</th>\n",
       "      <th>PT08.S5(O3)</th>\n",
       "      <th>T</th>\n",
       "      <th>RH</th>\n",
       "      <th>AH</th>\n",
       "    </tr>\n",
       "  </thead>\n",
       "  <tbody>\n",
       "    <tr>\n",
       "      <th>0</th>\n",
       "      <td>10/03/2004</td>\n",
       "      <td>18.00.00</td>\n",
       "      <td>2,6</td>\n",
       "      <td>1360.0</td>\n",
       "      <td>150.0</td>\n",
       "      <td>11,9</td>\n",
       "      <td>1046.0</td>\n",
       "      <td>166.0</td>\n",
       "      <td>1056.0</td>\n",
       "      <td>113.0</td>\n",
       "      <td>1692.0</td>\n",
       "      <td>1268.0</td>\n",
       "      <td>13,6</td>\n",
       "      <td>48,9</td>\n",
       "      <td>0,7578</td>\n",
       "    </tr>\n",
       "    <tr>\n",
       "      <th>1</th>\n",
       "      <td>10/03/2004</td>\n",
       "      <td>19.00.00</td>\n",
       "      <td>2</td>\n",
       "      <td>1292.0</td>\n",
       "      <td>112.0</td>\n",
       "      <td>9,4</td>\n",
       "      <td>955.0</td>\n",
       "      <td>103.0</td>\n",
       "      <td>1174.0</td>\n",
       "      <td>92.0</td>\n",
       "      <td>1559.0</td>\n",
       "      <td>972.0</td>\n",
       "      <td>13,3</td>\n",
       "      <td>47,7</td>\n",
       "      <td>0,7255</td>\n",
       "    </tr>\n",
       "    <tr>\n",
       "      <th>2</th>\n",
       "      <td>10/03/2004</td>\n",
       "      <td>20.00.00</td>\n",
       "      <td>2,2</td>\n",
       "      <td>1402.0</td>\n",
       "      <td>88.0</td>\n",
       "      <td>9,0</td>\n",
       "      <td>939.0</td>\n",
       "      <td>131.0</td>\n",
       "      <td>1140.0</td>\n",
       "      <td>114.0</td>\n",
       "      <td>1555.0</td>\n",
       "      <td>1074.0</td>\n",
       "      <td>11,9</td>\n",
       "      <td>54,0</td>\n",
       "      <td>0,7502</td>\n",
       "    </tr>\n",
       "    <tr>\n",
       "      <th>3</th>\n",
       "      <td>10/03/2004</td>\n",
       "      <td>21.00.00</td>\n",
       "      <td>2,2</td>\n",
       "      <td>1376.0</td>\n",
       "      <td>80.0</td>\n",
       "      <td>9,2</td>\n",
       "      <td>948.0</td>\n",
       "      <td>172.0</td>\n",
       "      <td>1092.0</td>\n",
       "      <td>122.0</td>\n",
       "      <td>1584.0</td>\n",
       "      <td>1203.0</td>\n",
       "      <td>11,0</td>\n",
       "      <td>60,0</td>\n",
       "      <td>0,7867</td>\n",
       "    </tr>\n",
       "    <tr>\n",
       "      <th>4</th>\n",
       "      <td>10/03/2004</td>\n",
       "      <td>22.00.00</td>\n",
       "      <td>1,6</td>\n",
       "      <td>1272.0</td>\n",
       "      <td>51.0</td>\n",
       "      <td>6,5</td>\n",
       "      <td>836.0</td>\n",
       "      <td>131.0</td>\n",
       "      <td>1205.0</td>\n",
       "      <td>116.0</td>\n",
       "      <td>1490.0</td>\n",
       "      <td>1110.0</td>\n",
       "      <td>11,2</td>\n",
       "      <td>59,6</td>\n",
       "      <td>0,7888</td>\n",
       "    </tr>\n",
       "  </tbody>\n",
       "</table>\n",
       "</div>"
      ],
      "text/plain": [
       "         Date      Time CO(GT)  PT08.S1(CO)  NMHC(GT) C6H6(GT)  PT08.S2(NMHC)  \\\n",
       "0  10/03/2004  18.00.00    2,6       1360.0     150.0     11,9         1046.0   \n",
       "1  10/03/2004  19.00.00      2       1292.0     112.0      9,4          955.0   \n",
       "2  10/03/2004  20.00.00    2,2       1402.0      88.0      9,0          939.0   \n",
       "3  10/03/2004  21.00.00    2,2       1376.0      80.0      9,2          948.0   \n",
       "4  10/03/2004  22.00.00    1,6       1272.0      51.0      6,5          836.0   \n",
       "\n",
       "   NOx(GT)  PT08.S3(NOx)  NO2(GT)  PT08.S4(NO2)  PT08.S5(O3)     T    RH  \\\n",
       "0    166.0        1056.0    113.0        1692.0       1268.0  13,6  48,9   \n",
       "1    103.0        1174.0     92.0        1559.0        972.0  13,3  47,7   \n",
       "2    131.0        1140.0    114.0        1555.0       1074.0  11,9  54,0   \n",
       "3    172.0        1092.0    122.0        1584.0       1203.0  11,0  60,0   \n",
       "4    131.0        1205.0    116.0        1490.0       1110.0  11,2  59,6   \n",
       "\n",
       "       AH  \n",
       "0  0,7578  \n",
       "1  0,7255  \n",
       "2  0,7502  \n",
       "3  0,7867  \n",
       "4  0,7888  "
      ]
     },
     "execution_count": 8,
     "metadata": {},
     "output_type": "execute_result"
    }
   ],
   "source": [
    "df.head()"
   ]
  },
  {
   "cell_type": "markdown",
   "id": "baking-violation",
   "metadata": {},
   "source": [
    "Here are the NaN values of each column. When we look at the data we can see that last 114 rows are NaN"
   ]
  },
  {
   "cell_type": "code",
   "execution_count": 9,
   "id": "induced-blackberry",
   "metadata": {},
   "outputs": [
    {
     "data": {
      "text/plain": [
       "Date             114\n",
       "Time             114\n",
       "CO(GT)           114\n",
       "PT08.S1(CO)      114\n",
       "NMHC(GT)         114\n",
       "C6H6(GT)         114\n",
       "PT08.S2(NMHC)    114\n",
       "NOx(GT)          114\n",
       "PT08.S3(NOx)     114\n",
       "NO2(GT)          114\n",
       "PT08.S4(NO2)     114\n",
       "PT08.S5(O3)      114\n",
       "T                114\n",
       "RH               114\n",
       "AH               114\n",
       "dtype: int64"
      ]
     },
     "execution_count": 9,
     "metadata": {},
     "output_type": "execute_result"
    }
   ],
   "source": [
    "df.isna().sum()"
   ]
  },
  {
   "cell_type": "markdown",
   "id": "filled-validation",
   "metadata": {},
   "source": [
    "As we can see in graph, all columns has exactly same number of NaN values. "
   ]
  },
  {
   "cell_type": "code",
   "execution_count": 10,
   "id": "british-packaging",
   "metadata": {},
   "outputs": [
    {
     "data": {
      "image/png": "[encoded data removed]",
      "text/plain": [
       "<Figure size 432x288 with 1 Axes>"
      ]
     },
     "metadata": {
      "needs_background": "light"
     },
     "output_type": "display_data"
    }
   ],
   "source": [
    "null_data = df.isnull().sum()\n",
    "fig = plt.figure()\n",
    "ax = fig.add_axes([0,0,1,1])\n",
    "ax.set_ylabel('Number of NaN Values')\n",
    "plt.xticks(rotation='vertical')\n",
    "ax.bar(df.columns, null_data)\n",
    "plt.show()"
   ]
  },
  {
   "cell_type": "markdown",
   "id": "aerial-schedule",
   "metadata": {},
   "source": [
    "I dropped last 114 rows of data which are NaN values"
   ]
  },
  {
   "cell_type": "code",
   "execution_count": 11,
   "id": "acoustic-identification",
   "metadata": {},
   "outputs": [],
   "source": [
    "df = df[:-114]"
   ]
  },
  {
   "cell_type": "code",
   "execution_count": 12,
   "id": "logical-profit",
   "metadata": {},
   "outputs": [
    {
     "data": {
      "text/plain": [
       "<AxesSubplot:>"
      ]
     },
     "execution_count": 12,
     "metadata": {},
     "output_type": "execute_result"
    },
    {
     "data": {
      "image/png": "[encoded data removed]",
      "text/plain": [
       "<Figure size 720x720 with 1 Axes>"
      ]
     },
     "metadata": {
      "needs_background": "light"
     },
     "output_type": "display_data"
    }
   ],
   "source": [
    "df.boxplot(meanline=True, showmeans=True, figsize=(10,10))"
   ]
  },
  {
   "cell_type": "markdown",
   "id": "burning-environment",
   "metadata": {},
   "source": [
    "Date and Time columns are inconsistent and not float. I dropped them, too."
   ]
  },
  {
   "cell_type": "code",
   "execution_count": 13,
   "id": "acting-demonstration",
   "metadata": {},
   "outputs": [
    {
     "name": "stderr",
     "output_type": "stream",
     "text": [
      "C:\\Users\\THINKPAD\\anaconda3\\envs\\Mete\\lib\\site-packages\\pandas\\core\\frame.py:4305: SettingWithCopyWarning: \n",
      "A value is trying to be set on a copy of a slice from a DataFrame\n",
      "\n",
      "See the caveats in the documentation: https://pandas.pydata.org/pandas-docs/stable/user_guide/indexing.html#returning-a-view-versus-a-copy\n",
      "  return super().drop(\n"
     ]
    }
   ],
   "source": [
    "date_list = df[\"Date\"]\n",
    "time_list = df[\"Time\"]\n",
    "df.drop(columns=df.columns[:2], axis=1, inplace=True)"
   ]
  },
  {
   "cell_type": "markdown",
   "id": "primary-emission",
   "metadata": {},
   "source": [
    "Some decimal values are was wrong. I replaced commas with dots and numbers are fixed."
   ]
  },
  {
   "cell_type": "code",
   "execution_count": 14,
   "id": "corrected-groove",
   "metadata": {},
   "outputs": [],
   "source": [
    "df = df.astype(str)\n",
    "df = df.apply(lambda x: x.str.replace(',','.'))"
   ]
  },
  {
   "cell_type": "markdown",
   "id": "signal-concrete",
   "metadata": {},
   "source": [
    "And when we check NaN values again, we can see that I removed all of them."
   ]
  },
  {
   "cell_type": "code",
   "execution_count": 15,
   "id": "contained-meditation",
   "metadata": {},
   "outputs": [
    {
     "data": {
      "text/plain": [
       "CO(GT)           0\n",
       "PT08.S1(CO)      0\n",
       "NMHC(GT)         0\n",
       "C6H6(GT)         0\n",
       "PT08.S2(NMHC)    0\n",
       "NOx(GT)          0\n",
       "PT08.S3(NOx)     0\n",
       "NO2(GT)          0\n",
       "PT08.S4(NO2)     0\n",
       "PT08.S5(O3)      0\n",
       "T                0\n",
       "RH               0\n",
       "AH               0\n",
       "dtype: int64"
      ]
     },
     "execution_count": 15,
     "metadata": {},
     "output_type": "execute_result"
    }
   ],
   "source": [
    "df.isna().sum()"
   ]
  },
  {
   "cell_type": "markdown",
   "id": "destroyed-latvia",
   "metadata": {},
   "source": [
    "Statically detailed table with 'describe()' attribute of pandas library."
   ]
  },
  {
   "cell_type": "code",
   "execution_count": 16,
   "id": "permanent-delay",
   "metadata": {
    "scrolled": false
   },
   "outputs": [
    {
     "data": {
      "text/html": [
       "<div>\n",
       "<style scoped>\n",
       "    .dataframe tbody tr th:only-of-type {\n",
       "        vertical-align: middle;\n",
       "    }\n",
       "\n",
       "    .dataframe tbody tr th {\n",
       "        vertical-align: top;\n",
       "    }\n",
       "\n",
       "    .dataframe thead th {\n",
       "        text-align: right;\n",
       "    }\n",
       "</style>\n",
       "<table border=\"1\" class=\"dataframe\">\n",
       "  <thead>\n",
       "    <tr style=\"text-align: right;\">\n",
       "      <th></th>\n",
       "      <th>CO(GT)</th>\n",
       "      <th>PT08.S1(CO)</th>\n",
       "      <th>NMHC(GT)</th>\n",
       "      <th>C6H6(GT)</th>\n",
       "      <th>PT08.S2(NMHC)</th>\n",
       "      <th>NOx(GT)</th>\n",
       "      <th>PT08.S3(NOx)</th>\n",
       "      <th>NO2(GT)</th>\n",
       "      <th>PT08.S4(NO2)</th>\n",
       "      <th>PT08.S5(O3)</th>\n",
       "      <th>T</th>\n",
       "      <th>RH</th>\n",
       "      <th>AH</th>\n",
       "    </tr>\n",
       "  </thead>\n",
       "  <tbody>\n",
       "    <tr>\n",
       "      <th>count</th>\n",
       "      <td>9357</td>\n",
       "      <td>9357</td>\n",
       "      <td>9357</td>\n",
       "      <td>9357</td>\n",
       "      <td>9357</td>\n",
       "      <td>9357</td>\n",
       "      <td>9357</td>\n",
       "      <td>9357</td>\n",
       "      <td>9357</td>\n",
       "      <td>9357</td>\n",
       "      <td>9357</td>\n",
       "      <td>9357</td>\n",
       "      <td>9357</td>\n",
       "    </tr>\n",
       "    <tr>\n",
       "      <th>unique</th>\n",
       "      <td>104</td>\n",
       "      <td>1042</td>\n",
       "      <td>430</td>\n",
       "      <td>408</td>\n",
       "      <td>1246</td>\n",
       "      <td>926</td>\n",
       "      <td>1222</td>\n",
       "      <td>284</td>\n",
       "      <td>1604</td>\n",
       "      <td>1744</td>\n",
       "      <td>437</td>\n",
       "      <td>754</td>\n",
       "      <td>6684</td>\n",
       "    </tr>\n",
       "    <tr>\n",
       "      <th>top</th>\n",
       "      <td>-200</td>\n",
       "      <td>-200.0</td>\n",
       "      <td>-200.0</td>\n",
       "      <td>-200.0</td>\n",
       "      <td>-200.0</td>\n",
       "      <td>-200.0</td>\n",
       "      <td>-200.0</td>\n",
       "      <td>-200.0</td>\n",
       "      <td>-200.0</td>\n",
       "      <td>-200.0</td>\n",
       "      <td>-200</td>\n",
       "      <td>-200</td>\n",
       "      <td>-200</td>\n",
       "    </tr>\n",
       "    <tr>\n",
       "      <th>freq</th>\n",
       "      <td>1592</td>\n",
       "      <td>366</td>\n",
       "      <td>8443</td>\n",
       "      <td>366</td>\n",
       "      <td>366</td>\n",
       "      <td>1639</td>\n",
       "      <td>366</td>\n",
       "      <td>1642</td>\n",
       "      <td>366</td>\n",
       "      <td>366</td>\n",
       "      <td>366</td>\n",
       "      <td>366</td>\n",
       "      <td>366</td>\n",
       "    </tr>\n",
       "  </tbody>\n",
       "</table>\n",
       "</div>"
      ],
      "text/plain": [
       "       CO(GT) PT08.S1(CO) NMHC(GT) C6H6(GT) PT08.S2(NMHC) NOx(GT)  \\\n",
       "count    9357        9357     9357     9357          9357    9357   \n",
       "unique    104        1042      430      408          1246     926   \n",
       "top      -200      -200.0   -200.0   -200.0        -200.0  -200.0   \n",
       "freq     1592         366     8443      366           366    1639   \n",
       "\n",
       "       PT08.S3(NOx) NO2(GT) PT08.S4(NO2) PT08.S5(O3)     T    RH    AH  \n",
       "count          9357    9357         9357        9357  9357  9357  9357  \n",
       "unique         1222     284         1604        1744   437   754  6684  \n",
       "top          -200.0  -200.0       -200.0      -200.0  -200  -200  -200  \n",
       "freq            366    1642          366         366   366   366   366  "
      ]
     },
     "execution_count": 16,
     "metadata": {},
     "output_type": "execute_result"
    }
   ],
   "source": [
    "df.describe()"
   ]
  },
  {
   "cell_type": "code",
   "execution_count": 17,
   "id": "settled-hughes",
   "metadata": {},
   "outputs": [],
   "source": [
    "describe_df = pd.DataFrame(df.describe())"
   ]
  },
  {
   "cell_type": "markdown",
   "id": "weird-remainder",
   "metadata": {},
   "source": [
    "I converted all values to float to make numerical operations safely. "
   ]
  },
  {
   "cell_type": "code",
   "execution_count": 18,
   "id": "anonymous-decline",
   "metadata": {},
   "outputs": [],
   "source": [
    "df = df.astype('float')"
   ]
  },
  {
   "cell_type": "code",
   "execution_count": 19,
   "id": "pointed-russian",
   "metadata": {},
   "outputs": [
    {
     "data": {
      "text/plain": [
       "numpy.float64"
      ]
     },
     "execution_count": 19,
     "metadata": {},
     "output_type": "execute_result"
    }
   ],
   "source": [
    "type(df['CO(GT)'][0])"
   ]
  },
  {
   "cell_type": "markdown",
   "id": "severe-harvey",
   "metadata": {},
   "source": [
    "### Finding and Filling Missing Values"
   ]
  },
  {
   "cell_type": "markdown",
   "id": "million-contractor",
   "metadata": {},
   "source": [
    "The line below shows us that -200 (top value) occurences are high on dataset. This value is noise for our data. My plan is\n",
    "removing the group that their rows all values are -200 which is 366 times shows up in our data. This 366 rows are not useful.\n",
    "\n",
    "After this process, we can see that 366 rows are gone. \n",
    "\n",
    "In the continuation of the plan, I treated -200 values in other rows as NaN values. "
   ]
  },
  {
   "cell_type": "code",
   "execution_count": 20,
   "id": "billion-bidder",
   "metadata": {
    "scrolled": true
   },
   "outputs": [
    {
     "data": {
      "text/plain": [
       "CO(GT)           1592\n",
       "PT08.S1(CO)       366\n",
       "NMHC(GT)         8443\n",
       "C6H6(GT)          366\n",
       "PT08.S2(NMHC)     366\n",
       "NOx(GT)          1639\n",
       "PT08.S3(NOx)      366\n",
       "NO2(GT)          1642\n",
       "PT08.S4(NO2)      366\n",
       "PT08.S5(O3)       366\n",
       "T                 366\n",
       "RH                366\n",
       "AH                366\n",
       "Name: freq, dtype: object"
      ]
     },
     "execution_count": 20,
     "metadata": {},
     "output_type": "execute_result"
    }
   ],
   "source": [
    "describe_df.iloc[-1]"
   ]
  },
  {
   "cell_type": "code",
   "execution_count": 21,
   "id": "unable-strategy",
   "metadata": {},
   "outputs": [],
   "source": [
    "df.drop(df.loc[df['PT08.S1(CO)'] == -200.0].index, inplace=True)"
   ]
  },
  {
   "cell_type": "code",
   "execution_count": 22,
   "id": "acknowledged-package",
   "metadata": {},
   "outputs": [
    {
     "data": {
      "text/plain": [
       "8991"
      ]
     },
     "execution_count": 22,
     "metadata": {},
     "output_type": "execute_result"
    }
   ],
   "source": [
    "len(df)"
   ]
  },
  {
   "cell_type": "code",
   "execution_count": 23,
   "id": "elect-excess",
   "metadata": {},
   "outputs": [
    {
     "data": {
      "text/html": [
       "<div>\n",
       "<style scoped>\n",
       "    .dataframe tbody tr th:only-of-type {\n",
       "        vertical-align: middle;\n",
       "    }\n",
       "\n",
       "    .dataframe tbody tr th {\n",
       "        vertical-align: top;\n",
       "    }\n",
       "\n",
       "    .dataframe thead th {\n",
       "        text-align: right;\n",
       "    }\n",
       "</style>\n",
       "<table border=\"1\" class=\"dataframe\">\n",
       "  <thead>\n",
       "    <tr style=\"text-align: right;\">\n",
       "      <th></th>\n",
       "      <th>CO(GT)</th>\n",
       "      <th>PT08.S1(CO)</th>\n",
       "      <th>NMHC(GT)</th>\n",
       "      <th>C6H6(GT)</th>\n",
       "      <th>PT08.S2(NMHC)</th>\n",
       "      <th>NOx(GT)</th>\n",
       "      <th>PT08.S3(NOx)</th>\n",
       "      <th>NO2(GT)</th>\n",
       "      <th>PT08.S4(NO2)</th>\n",
       "      <th>PT08.S5(O3)</th>\n",
       "      <th>T</th>\n",
       "      <th>RH</th>\n",
       "      <th>AH</th>\n",
       "    </tr>\n",
       "  </thead>\n",
       "  <tbody>\n",
       "    <tr>\n",
       "      <th>0</th>\n",
       "      <td>2.6</td>\n",
       "      <td>1360.0</td>\n",
       "      <td>150.0</td>\n",
       "      <td>11.9</td>\n",
       "      <td>1046.0</td>\n",
       "      <td>166.0</td>\n",
       "      <td>1056.0</td>\n",
       "      <td>113.0</td>\n",
       "      <td>1692.0</td>\n",
       "      <td>1268.0</td>\n",
       "      <td>13.6</td>\n",
       "      <td>48.9</td>\n",
       "      <td>0.7578</td>\n",
       "    </tr>\n",
       "    <tr>\n",
       "      <th>1</th>\n",
       "      <td>2.0</td>\n",
       "      <td>1292.0</td>\n",
       "      <td>112.0</td>\n",
       "      <td>9.4</td>\n",
       "      <td>955.0</td>\n",
       "      <td>103.0</td>\n",
       "      <td>1174.0</td>\n",
       "      <td>92.0</td>\n",
       "      <td>1559.0</td>\n",
       "      <td>972.0</td>\n",
       "      <td>13.3</td>\n",
       "      <td>47.7</td>\n",
       "      <td>0.7255</td>\n",
       "    </tr>\n",
       "    <tr>\n",
       "      <th>2</th>\n",
       "      <td>2.2</td>\n",
       "      <td>1402.0</td>\n",
       "      <td>88.0</td>\n",
       "      <td>9.0</td>\n",
       "      <td>939.0</td>\n",
       "      <td>131.0</td>\n",
       "      <td>1140.0</td>\n",
       "      <td>114.0</td>\n",
       "      <td>1555.0</td>\n",
       "      <td>1074.0</td>\n",
       "      <td>11.9</td>\n",
       "      <td>54.0</td>\n",
       "      <td>0.7502</td>\n",
       "    </tr>\n",
       "    <tr>\n",
       "      <th>3</th>\n",
       "      <td>2.2</td>\n",
       "      <td>1376.0</td>\n",
       "      <td>80.0</td>\n",
       "      <td>9.2</td>\n",
       "      <td>948.0</td>\n",
       "      <td>172.0</td>\n",
       "      <td>1092.0</td>\n",
       "      <td>122.0</td>\n",
       "      <td>1584.0</td>\n",
       "      <td>1203.0</td>\n",
       "      <td>11.0</td>\n",
       "      <td>60.0</td>\n",
       "      <td>0.7867</td>\n",
       "    </tr>\n",
       "    <tr>\n",
       "      <th>4</th>\n",
       "      <td>1.6</td>\n",
       "      <td>1272.0</td>\n",
       "      <td>51.0</td>\n",
       "      <td>6.5</td>\n",
       "      <td>836.0</td>\n",
       "      <td>131.0</td>\n",
       "      <td>1205.0</td>\n",
       "      <td>116.0</td>\n",
       "      <td>1490.0</td>\n",
       "      <td>1110.0</td>\n",
       "      <td>11.2</td>\n",
       "      <td>59.6</td>\n",
       "      <td>0.7888</td>\n",
       "    </tr>\n",
       "  </tbody>\n",
       "</table>\n",
       "</div>"
      ],
      "text/plain": [
       "   CO(GT)  PT08.S1(CO)  NMHC(GT)  C6H6(GT)  PT08.S2(NMHC)  NOx(GT)  \\\n",
       "0     2.6       1360.0     150.0      11.9         1046.0    166.0   \n",
       "1     2.0       1292.0     112.0       9.4          955.0    103.0   \n",
       "2     2.2       1402.0      88.0       9.0          939.0    131.0   \n",
       "3     2.2       1376.0      80.0       9.2          948.0    172.0   \n",
       "4     1.6       1272.0      51.0       6.5          836.0    131.0   \n",
       "\n",
       "   PT08.S3(NOx)  NO2(GT)  PT08.S4(NO2)  PT08.S5(O3)     T    RH      AH  \n",
       "0        1056.0    113.0        1692.0       1268.0  13.6  48.9  0.7578  \n",
       "1        1174.0     92.0        1559.0        972.0  13.3  47.7  0.7255  \n",
       "2        1140.0    114.0        1555.0       1074.0  11.9  54.0  0.7502  \n",
       "3        1092.0    122.0        1584.0       1203.0  11.0  60.0  0.7867  \n",
       "4        1205.0    116.0        1490.0       1110.0  11.2  59.6  0.7888  "
      ]
     },
     "execution_count": 23,
     "metadata": {},
     "output_type": "execute_result"
    }
   ],
   "source": [
    "df.head()"
   ]
  },
  {
   "cell_type": "markdown",
   "id": "synthetic-japan",
   "metadata": {},
   "source": [
    "Here is the distrubition of values in each columns."
   ]
  },
  {
   "cell_type": "code",
   "execution_count": 24,
   "id": "handled-example",
   "metadata": {},
   "outputs": [
    {
     "data": {
      "image/png": "[encoded data removed]",
      "text/plain": [
       "<Figure size 432x288 with 1 Axes>"
      ]
     },
     "metadata": {
      "needs_background": "light"
     },
     "output_type": "display_data"
    },
    {
     "data": {
      "image/png": "[encoded data removed]",
      "text/plain": [
       "<Figure size 432x288 with 1 Axes>"
      ]
     },
     "metadata": {
      "needs_background": "light"
     },
     "output_type": "display_data"
    },
    {
     "data": {
      "image/png": "[encoded data removed]",
      "text/plain": [
       "<Figure size 432x288 with 1 Axes>"
      ]
     },
     "metadata": {
      "needs_background": "light"
     },
     "output_type": "display_data"
    },
    {
     "data": {
      "image/png": "[encoded data removed]",
      "text/plain": [
       "<Figure size 432x288 with 1 Axes>"
      ]
     },
     "metadata": {
      "needs_background": "light"
     },
     "output_type": "display_data"
    },
    {
     "data": {
      "image/png": "[encoded data removed]",
      "text/plain": [
       "<Figure size 432x288 with 1 Axes>"
      ]
     },
     "metadata": {
      "needs_background": "light"
     },
     "output_type": "display_data"
    },
    {
     "data": {
      "image/png": "[encoded data removed]",
      "text/plain": [
       "<Figure size 432x288 with 1 Axes>"
      ]
     },
     "metadata": {
      "needs_background": "light"
     },
     "output_type": "display_data"
    },
    {
     "data": {
      "image/png": "[encoded data removed]",
      "text/plain": [
       "<Figure size 432x288 with 1 Axes>"
      ]
     },
     "metadata": {
      "needs_background": "light"
     },
     "output_type": "display_data"
    },
    {
     "data": {
      "image/png": "[encoded data removed]",
      "text/plain": [
       "<Figure size 432x288 with 1 Axes>"
      ]
     },
     "metadata": {
      "needs_background": "light"
     },
     "output_type": "display_data"
    },
    {
     "data": {
      "image/png": "[encoded data removed]",
      "text/plain": [
       "<Figure size 432x288 with 1 Axes>"
      ]
     },
     "metadata": {
      "needs_background": "light"
     },
     "output_type": "display_data"
    },
    {
     "data": {
      "image/png": "[encoded data removed]",
      "text/plain": [
       "<Figure size 432x288 with 1 Axes>"
      ]
     },
     "metadata": {
      "needs_background": "light"
     },
     "output_type": "display_data"
    },
    {
     "data": {
      "image/png": "[encoded data removed]",
      "text/plain": [
       "<Figure size 432x288 with 1 Axes>"
      ]
     },
     "metadata": {
      "needs_background": "light"
     },
     "output_type": "display_data"
    },
    {
     "data": {
      "image/png": "[encoded data removed]",
      "text/plain": [
       "<Figure size 432x288 with 1 Axes>"
      ]
     },
     "metadata": {
      "needs_background": "light"
     },
     "output_type": "display_data"
    },
    {
     "data": {
      "image/png": "[encoded data removed]",
      "text/plain": [
       "<Figure size 432x288 with 1 Axes>"
      ]
     },
     "metadata": {
      "needs_background": "light"
     },
     "output_type": "display_data"
    }
   ],
   "source": [
    "cols = df.columns\n",
    "for i in range(0,len(cols)):\n",
    "    df.hist(column=cols[i], color = 'teal')"
   ]
  },
  {
   "cell_type": "markdown",
   "id": "generic-content",
   "metadata": {},
   "source": [
    "In this part, I converted other -200 values to NaN values as I said above."
   ]
  },
  {
   "cell_type": "code",
   "execution_count": 25,
   "id": "modern-singing",
   "metadata": {},
   "outputs": [],
   "source": [
    "for m in range(len(cols)):\n",
    "    df[cols[m]] = df[cols[m]].replace([-200.0], np.nan)"
   ]
  },
  {
   "cell_type": "code",
   "execution_count": 26,
   "id": "cosmetic-parks",
   "metadata": {},
   "outputs": [
    {
     "data": {
      "text/plain": [
       "CO(GT)           1647\n",
       "PT08.S1(CO)         0\n",
       "NMHC(GT)         8104\n",
       "C6H6(GT)            0\n",
       "PT08.S2(NMHC)       0\n",
       "NOx(GT)          1595\n",
       "PT08.S3(NOx)        0\n",
       "NO2(GT)          1598\n",
       "PT08.S4(NO2)        0\n",
       "PT08.S5(O3)         0\n",
       "T                   0\n",
       "RH                  0\n",
       "AH                  0\n",
       "dtype: int64"
      ]
     },
     "execution_count": 26,
     "metadata": {},
     "output_type": "execute_result"
    }
   ],
   "source": [
    "df.isna().sum()"
   ]
  },
  {
   "cell_type": "markdown",
   "id": "hollywood-newspaper",
   "metadata": {},
   "source": [
    "Now we have 4 critic columns:\n",
    "\n",
    "NHMC(GT) --> Has 8104 NaN values, inconsistent and has to be removed.\n",
    "\n",
    "CO(GT) --> Will be filled with column mean\n",
    "\n",
    "NOx(GT) --> Will be filled with column mean\n",
    "\n",
    "NO2(GT) --> Will be filled with column mean"
   ]
  },
  {
   "cell_type": "code",
   "execution_count": 27,
   "id": "invisible-standard",
   "metadata": {},
   "outputs": [],
   "source": [
    "df = df.drop('NMHC(GT)', axis=1)"
   ]
  },
  {
   "cell_type": "code",
   "execution_count": 28,
   "id": "scheduled-transportation",
   "metadata": {},
   "outputs": [],
   "source": [
    "mean1 =df['CO(GT)'].mean()\n",
    "df['CO(GT)'].fillna(value=mean1, inplace=True)\n",
    "\n",
    "mean2 =df['NOx(GT)'].mean()\n",
    "df['NOx(GT)'].fillna(value=mean2, inplace=True)\n",
    "\n",
    "mean3 =df['NO2(GT)'].mean()\n",
    "df['NO2(GT)'].fillna(value=mean3, inplace=True)"
   ]
  },
  {
   "cell_type": "markdown",
   "id": "functional-scheme",
   "metadata": {},
   "source": [
    "### Clustering"
   ]
  },
  {
   "cell_type": "markdown",
   "id": "fitted-cooperative",
   "metadata": {},
   "source": [
    "Clustering is a set of techniques used to partition data into groups, or clusters. Clusters are loosely defined as groups of data objects that are more similar to other objects in their cluster than they are to data objects in other clusters.\n",
    "\n",
    "Most efficient technique of clustering is KMeans, which I used in my work."
   ]
  },
  {
   "cell_type": "code",
   "execution_count": 29,
   "id": "express-function",
   "metadata": {},
   "outputs": [],
   "source": [
    "from sklearn import cluster\n",
    "\n",
    "k_means = cluster.KMeans(n_clusters=5, max_iter=50, random_state=1)\n",
    "k_means.fit(df) \n",
    "labels = k_means.labels_"
   ]
  },
  {
   "cell_type": "code",
   "execution_count": 30,
   "id": "potential-object",
   "metadata": {},
   "outputs": [],
   "source": [
    "centroids = k_means.cluster_centers_\n",
    "clustered = pd.DataFrame(centroids,columns=df.columns)"
   ]
  },
  {
   "cell_type": "markdown",
   "id": "portable-football",
   "metadata": {},
   "source": [
    "Now we have a dataframe with 5 clusters."
   ]
  },
  {
   "cell_type": "code",
   "execution_count": 31,
   "id": "surface-credit",
   "metadata": {},
   "outputs": [
    {
     "data": {
      "text/html": [
       "<div>\n",
       "<style scoped>\n",
       "    .dataframe tbody tr th:only-of-type {\n",
       "        vertical-align: middle;\n",
       "    }\n",
       "\n",
       "    .dataframe tbody tr th {\n",
       "        vertical-align: top;\n",
       "    }\n",
       "\n",
       "    .dataframe thead th {\n",
       "        text-align: right;\n",
       "    }\n",
       "</style>\n",
       "<table border=\"1\" class=\"dataframe\">\n",
       "  <thead>\n",
       "    <tr style=\"text-align: right;\">\n",
       "      <th></th>\n",
       "      <th>CO(GT)</th>\n",
       "      <th>PT08.S1(CO)</th>\n",
       "      <th>C6H6(GT)</th>\n",
       "      <th>PT08.S2(NMHC)</th>\n",
       "      <th>NOx(GT)</th>\n",
       "      <th>PT08.S3(NOx)</th>\n",
       "      <th>NO2(GT)</th>\n",
       "      <th>PT08.S4(NO2)</th>\n",
       "      <th>PT08.S5(O3)</th>\n",
       "      <th>T</th>\n",
       "      <th>RH</th>\n",
       "      <th>AH</th>\n",
       "    </tr>\n",
       "  </thead>\n",
       "  <tbody>\n",
       "    <tr>\n",
       "      <th>0</th>\n",
       "      <td>2.656597</td>\n",
       "      <td>1232.333333</td>\n",
       "      <td>14.565603</td>\n",
       "      <td>1129.770867</td>\n",
       "      <td>249.475943</td>\n",
       "      <td>686.919724</td>\n",
       "      <td>121.402905</td>\n",
       "      <td>1725.944710</td>\n",
       "      <td>1239.975545</td>\n",
       "      <td>22.844976</td>\n",
       "      <td>45.991707</td>\n",
       "      <td>1.200085</td>\n",
       "    </tr>\n",
       "    <tr>\n",
       "      <th>1</th>\n",
       "      <td>1.081660</td>\n",
       "      <td>869.943921</td>\n",
       "      <td>2.780099</td>\n",
       "      <td>628.231266</td>\n",
       "      <td>129.426432</td>\n",
       "      <td>1164.911166</td>\n",
       "      <td>81.219126</td>\n",
       "      <td>1107.457568</td>\n",
       "      <td>581.312655</td>\n",
       "      <td>14.014690</td>\n",
       "      <td>49.849231</td>\n",
       "      <td>0.810013</td>\n",
       "    </tr>\n",
       "    <tr>\n",
       "      <th>2</th>\n",
       "      <td>1.606585</td>\n",
       "      <td>1009.300239</td>\n",
       "      <td>7.208333</td>\n",
       "      <td>858.083732</td>\n",
       "      <td>143.534403</td>\n",
       "      <td>888.818581</td>\n",
       "      <td>90.700861</td>\n",
       "      <td>1511.035486</td>\n",
       "      <td>832.387959</td>\n",
       "      <td>23.263876</td>\n",
       "      <td>46.488636</td>\n",
       "      <td>1.238592</td>\n",
       "    </tr>\n",
       "    <tr>\n",
       "      <th>3</th>\n",
       "      <td>4.345615</td>\n",
       "      <td>1479.927782</td>\n",
       "      <td>23.807816</td>\n",
       "      <td>1389.124894</td>\n",
       "      <td>545.492651</td>\n",
       "      <td>518.063721</td>\n",
       "      <td>159.493022</td>\n",
       "      <td>1875.451997</td>\n",
       "      <td>1735.035684</td>\n",
       "      <td>17.497196</td>\n",
       "      <td>54.305777</td>\n",
       "      <td>1.089016</td>\n",
       "    </tr>\n",
       "    <tr>\n",
       "      <th>4</th>\n",
       "      <td>2.005339</td>\n",
       "      <td>1095.350355</td>\n",
       "      <td>8.196525</td>\n",
       "      <td>897.779433</td>\n",
       "      <td>315.912255</td>\n",
       "      <td>733.058865</td>\n",
       "      <td>142.610271</td>\n",
       "      <td>1147.632624</td>\n",
       "      <td>1108.825532</td>\n",
       "      <td>10.315319</td>\n",
       "      <td>53.330993</td>\n",
       "      <td>0.668684</td>\n",
       "    </tr>\n",
       "  </tbody>\n",
       "</table>\n",
       "</div>"
      ],
      "text/plain": [
       "     CO(GT)  PT08.S1(CO)   C6H6(GT)  PT08.S2(NMHC)     NOx(GT)  PT08.S3(NOx)  \\\n",
       "0  2.656597  1232.333333  14.565603    1129.770867  249.475943    686.919724   \n",
       "1  1.081660   869.943921   2.780099     628.231266  129.426432   1164.911166   \n",
       "2  1.606585  1009.300239   7.208333     858.083732  143.534403    888.818581   \n",
       "3  4.345615  1479.927782  23.807816    1389.124894  545.492651    518.063721   \n",
       "4  2.005339  1095.350355   8.196525     897.779433  315.912255    733.058865   \n",
       "\n",
       "      NO2(GT)  PT08.S4(NO2)  PT08.S5(O3)          T         RH        AH  \n",
       "0  121.402905   1725.944710  1239.975545  22.844976  45.991707  1.200085  \n",
       "1   81.219126   1107.457568   581.312655  14.014690  49.849231  0.810013  \n",
       "2   90.700861   1511.035486   832.387959  23.263876  46.488636  1.238592  \n",
       "3  159.493022   1875.451997  1735.035684  17.497196  54.305777  1.089016  \n",
       "4  142.610271   1147.632624  1108.825532  10.315319  53.330993  0.668684  "
      ]
     },
     "execution_count": 31,
     "metadata": {},
     "output_type": "execute_result"
    }
   ],
   "source": [
    "clustered"
   ]
  },
  {
   "cell_type": "markdown",
   "id": "close-flashing",
   "metadata": {},
   "source": [
    "### Detect & Remove Outliers"
   ]
  },
  {
   "cell_type": "markdown",
   "id": "middle-caution",
   "metadata": {},
   "source": [
    "In this part, for outlier detection I used quantiles. \n",
    "\n",
    "My outlier band was values are not between %2 - %98 of data. I removed all values outside this area."
   ]
  },
  {
   "cell_type": "code",
   "execution_count": 32,
   "id": "formal-display",
   "metadata": {},
   "outputs": [],
   "source": [
    "df_filtered = df\n",
    "cols = df.columns\n",
    "for i in range(0,len(cols)):\n",
    "    q = df[cols[i]].quantile(0.98)\n",
    "    df[df[cols[i]] < q]\n",
    "    q_low = df[cols[i]].quantile(0.02)\n",
    "    q_hi  = df[cols[i]].quantile(0.98)\n",
    "    df_filtered = df_filtered[(df_filtered[cols[i]] < q_hi) & (df_filtered[cols[i]] > q_low)]"
   ]
  },
  {
   "cell_type": "code",
   "execution_count": 33,
   "id": "therapeutic-recall",
   "metadata": {},
   "outputs": [
    {
     "data": {
      "text/html": [
       "<div>\n",
       "<style scoped>\n",
       "    .dataframe tbody tr th:only-of-type {\n",
       "        vertical-align: middle;\n",
       "    }\n",
       "\n",
       "    .dataframe tbody tr th {\n",
       "        vertical-align: top;\n",
       "    }\n",
       "\n",
       "    .dataframe thead th {\n",
       "        text-align: right;\n",
       "    }\n",
       "</style>\n",
       "<table border=\"1\" class=\"dataframe\">\n",
       "  <thead>\n",
       "    <tr style=\"text-align: right;\">\n",
       "      <th></th>\n",
       "      <th>CO(GT)</th>\n",
       "      <th>PT08.S1(CO)</th>\n",
       "      <th>C6H6(GT)</th>\n",
       "      <th>PT08.S2(NMHC)</th>\n",
       "      <th>NOx(GT)</th>\n",
       "      <th>PT08.S3(NOx)</th>\n",
       "      <th>NO2(GT)</th>\n",
       "      <th>PT08.S4(NO2)</th>\n",
       "      <th>PT08.S5(O3)</th>\n",
       "      <th>T</th>\n",
       "      <th>RH</th>\n",
       "      <th>AH</th>\n",
       "    </tr>\n",
       "  </thead>\n",
       "  <tbody>\n",
       "    <tr>\n",
       "      <th>0</th>\n",
       "      <td>2.6</td>\n",
       "      <td>1360.0</td>\n",
       "      <td>11.9</td>\n",
       "      <td>1046.0</td>\n",
       "      <td>166.0</td>\n",
       "      <td>1056.0</td>\n",
       "      <td>113.0</td>\n",
       "      <td>1692.0</td>\n",
       "      <td>1268.0</td>\n",
       "      <td>13.6</td>\n",
       "      <td>48.9</td>\n",
       "      <td>0.7578</td>\n",
       "    </tr>\n",
       "    <tr>\n",
       "      <th>1</th>\n",
       "      <td>2.0</td>\n",
       "      <td>1292.0</td>\n",
       "      <td>9.4</td>\n",
       "      <td>955.0</td>\n",
       "      <td>103.0</td>\n",
       "      <td>1174.0</td>\n",
       "      <td>92.0</td>\n",
       "      <td>1559.0</td>\n",
       "      <td>972.0</td>\n",
       "      <td>13.3</td>\n",
       "      <td>47.7</td>\n",
       "      <td>0.7255</td>\n",
       "    </tr>\n",
       "    <tr>\n",
       "      <th>2</th>\n",
       "      <td>2.2</td>\n",
       "      <td>1402.0</td>\n",
       "      <td>9.0</td>\n",
       "      <td>939.0</td>\n",
       "      <td>131.0</td>\n",
       "      <td>1140.0</td>\n",
       "      <td>114.0</td>\n",
       "      <td>1555.0</td>\n",
       "      <td>1074.0</td>\n",
       "      <td>11.9</td>\n",
       "      <td>54.0</td>\n",
       "      <td>0.7502</td>\n",
       "    </tr>\n",
       "    <tr>\n",
       "      <th>3</th>\n",
       "      <td>2.2</td>\n",
       "      <td>1376.0</td>\n",
       "      <td>9.2</td>\n",
       "      <td>948.0</td>\n",
       "      <td>172.0</td>\n",
       "      <td>1092.0</td>\n",
       "      <td>122.0</td>\n",
       "      <td>1584.0</td>\n",
       "      <td>1203.0</td>\n",
       "      <td>11.0</td>\n",
       "      <td>60.0</td>\n",
       "      <td>0.7867</td>\n",
       "    </tr>\n",
       "    <tr>\n",
       "      <th>4</th>\n",
       "      <td>1.6</td>\n",
       "      <td>1272.0</td>\n",
       "      <td>6.5</td>\n",
       "      <td>836.0</td>\n",
       "      <td>131.0</td>\n",
       "      <td>1205.0</td>\n",
       "      <td>116.0</td>\n",
       "      <td>1490.0</td>\n",
       "      <td>1110.0</td>\n",
       "      <td>11.2</td>\n",
       "      <td>59.6</td>\n",
       "      <td>0.7888</td>\n",
       "    </tr>\n",
       "  </tbody>\n",
       "</table>\n",
       "</div>"
      ],
      "text/plain": [
       "   CO(GT)  PT08.S1(CO)  C6H6(GT)  PT08.S2(NMHC)  NOx(GT)  PT08.S3(NOx)  \\\n",
       "0     2.6       1360.0      11.9         1046.0    166.0        1056.0   \n",
       "1     2.0       1292.0       9.4          955.0    103.0        1174.0   \n",
       "2     2.2       1402.0       9.0          939.0    131.0        1140.0   \n",
       "3     2.2       1376.0       9.2          948.0    172.0        1092.0   \n",
       "4     1.6       1272.0       6.5          836.0    131.0        1205.0   \n",
       "\n",
       "   NO2(GT)  PT08.S4(NO2)  PT08.S5(O3)     T    RH      AH  \n",
       "0    113.0        1692.0       1268.0  13.6  48.9  0.7578  \n",
       "1     92.0        1559.0        972.0  13.3  47.7  0.7255  \n",
       "2    114.0        1555.0       1074.0  11.9  54.0  0.7502  \n",
       "3    122.0        1584.0       1203.0  11.0  60.0  0.7867  \n",
       "4    116.0        1490.0       1110.0  11.2  59.6  0.7888  "
      ]
     },
     "execution_count": 33,
     "metadata": {},
     "output_type": "execute_result"
    }
   ],
   "source": [
    "df_filtered.head()"
   ]
  },
  {
   "cell_type": "markdown",
   "id": "subsequent-elimination",
   "metadata": {},
   "source": [
    "As we can see, my dataframe is smaller now without outliers."
   ]
  },
  {
   "cell_type": "code",
   "execution_count": 34,
   "id": "proud-hanging",
   "metadata": {},
   "outputs": [
    {
     "data": {
      "text/plain": [
       "6839"
      ]
     },
     "execution_count": 34,
     "metadata": {},
     "output_type": "execute_result"
    }
   ],
   "source": [
    "len(df_filtered)"
   ]
  },
  {
   "cell_type": "markdown",
   "id": "surrounded-experience",
   "metadata": {},
   "source": [
    "## Data Transformation"
   ]
  },
  {
   "cell_type": "markdown",
   "id": "offensive-debate",
   "metadata": {},
   "source": [
    "### Normalization"
   ]
  },
  {
   "cell_type": "markdown",
   "id": "abstract-empty",
   "metadata": {},
   "source": [
    "Data normalization is just cleaning up the collected data so as to make it more clear and machine-readable. Often the data collected by different systems are in different formats, there may be duplicates, and there may be unnecessary data as well. And you won’t get good results or insights if you try to visualize or analyze the data. Messy or cluttered data is difficult to understand and data redundancy creates unnecessary storage costs.\n",
    "\n",
    "In this part I used StandartScaler. It standardizes features by removing the mean and scaling to unit variance.\n",
    "\n",
    "The standard score of a sample x is calculated as:\n",
    "z = (x - u) / s"
   ]
  },
  {
   "cell_type": "code",
   "execution_count": 35,
   "id": "negative-element",
   "metadata": {},
   "outputs": [],
   "source": [
    "from sklearn import preprocessing"
   ]
  },
  {
   "cell_type": "code",
   "execution_count": 36,
   "id": "capable-witness",
   "metadata": {},
   "outputs": [
    {
     "data": {
      "text/html": [
       "<style>#sk-container-id-1 {color: black;background-color: white;}#sk-container-id-1 pre{padding: 0;}#sk-container-id-1 div.sk-toggleable {background-color: white;}#sk-container-id-1 label.sk-toggleable__label {cursor: pointer;display: block;width: 100%;margin-bottom: 0;padding: 0.3em;box-sizing: border-box;text-align: center;}#sk-container-id-1 label.sk-toggleable__label-arrow:before {content: \"▸\";float: left;margin-right: 0.25em;color: #696969;}#sk-container-id-1 label.sk-toggleable__label-arrow:hover:before {color: black;}#sk-container-id-1 div.sk-estimator:hover label.sk-toggleable__label-arrow:before {color: black;}#sk-container-id-1 div.sk-toggleable__content {max-height: 0;max-width: 0;overflow: hidden;text-align: left;background-color: #f0f8ff;}#sk-container-id-1 div.sk-toggleable__content pre {margin: 0.2em;color: black;border-radius: 0.25em;background-color: #f0f8ff;}#sk-container-id-1 input.sk-toggleable__control:checked~div.sk-toggleable__content {max-height: 200px;max-width: 100%;overflow: auto;}#sk-container-id-1 input.sk-toggleable__control:checked~label.sk-toggleable__label-arrow:before {content: \"▾\";}#sk-container-id-1 div.sk-estimator input.sk-toggleable__control:checked~label.sk-toggleable__label {background-color: #d4ebff;}#sk-container-id-1 div.sk-label input.sk-toggleable__control:checked~label.sk-toggleable__label {background-color: #d4ebff;}#sk-container-id-1 input.sk-hidden--visually {border: 0;clip: rect(1px 1px 1px 1px);clip: rect(1px, 1px, 1px, 1px);height: 1px;margin: -1px;overflow: hidden;padding: 0;position: absolute;width: 1px;}#sk-container-id-1 div.sk-estimator {font-family: monospace;background-color: #f0f8ff;border: 1px dotted black;border-radius: 0.25em;box-sizing: border-box;margin-bottom: 0.5em;}#sk-container-id-1 div.sk-estimator:hover {background-color: #d4ebff;}#sk-container-id-1 div.sk-parallel-item::after {content: \"\";width: 100%;border-bottom: 1px solid gray;flex-grow: 1;}#sk-container-id-1 div.sk-label:hover label.sk-toggleable__label {background-color: #d4ebff;}#sk-container-id-1 div.sk-serial::before {content: \"\";position: absolute;border-left: 1px solid gray;box-sizing: border-box;top: 0;bottom: 0;left: 50%;z-index: 0;}#sk-container-id-1 div.sk-serial {display: flex;flex-direction: column;align-items: center;background-color: white;padding-right: 0.2em;padding-left: 0.2em;position: relative;}#sk-container-id-1 div.sk-item {position: relative;z-index: 1;}#sk-container-id-1 div.sk-parallel {display: flex;align-items: stretch;justify-content: center;background-color: white;position: relative;}#sk-container-id-1 div.sk-item::before, #sk-container-id-1 div.sk-parallel-item::before {content: \"\";position: absolute;border-left: 1px solid gray;box-sizing: border-box;top: 0;bottom: 0;left: 50%;z-index: -1;}#sk-container-id-1 div.sk-parallel-item {display: flex;flex-direction: column;z-index: 1;position: relative;background-color: white;}#sk-container-id-1 div.sk-parallel-item:first-child::after {align-self: flex-end;width: 50%;}#sk-container-id-1 div.sk-parallel-item:last-child::after {align-self: flex-start;width: 50%;}#sk-container-id-1 div.sk-parallel-item:only-child::after {width: 0;}#sk-container-id-1 div.sk-dashed-wrapped {border: 1px dashed gray;margin: 0 0.4em 0.5em 0.4em;box-sizing: border-box;padding-bottom: 0.4em;background-color: white;}#sk-container-id-1 div.sk-label label {font-family: monospace;font-weight: bold;display: inline-block;line-height: 1.2em;}#sk-container-id-1 div.sk-label-container {text-align: center;}#sk-container-id-1 div.sk-container {/* jupyter's `normalize.less` sets `[hidden] { display: none; }` but bootstrap.min.css set `[hidden] { display: none !important; }` so we also need the `!important` here to be able to override the default hidden behavior on the sphinx rendered scikit-learn.org. See: https://github.com/scikit-learn/scikit-learn/issues/21755 */display: inline-block !important;position: relative;}#sk-container-id-1 div.sk-text-repr-fallback {display: none;}</style><div id=\"sk-container-id-1\" class=\"sk-top-container\"><div class=\"sk-text-repr-fallback\"><pre>StandardScaler()</pre><b>In a Jupyter environment, please rerun this cell to show the HTML representation or trust the notebook. <br />On GitHub, the HTML representation is unable to render, please try loading this page with nbviewer.org.</b></div><div class=\"sk-container\" hidden><div class=\"sk-item\"><div class=\"sk-estimator sk-toggleable\"><input class=\"sk-toggleable__control sk-hidden--visually\" id=\"sk-estimator-id-1\" type=\"checkbox\" checked><label for=\"sk-estimator-id-1\" class=\"sk-toggleable__label sk-toggleable__label-arrow\">StandardScaler</label><div class=\"sk-toggleable__content\"><pre>StandardScaler()</pre></div></div></div></div></div>"
      ],
      "text/plain": [
       "StandardScaler()"
      ]
     },
     "execution_count": 36,
     "metadata": {},
     "output_type": "execute_result"
    }
   ],
   "source": [
    "scaler = preprocessing.StandardScaler()\n",
    "scaler.fit(df_filtered)"
   ]
  },
  {
   "cell_type": "code",
   "execution_count": 37,
   "id": "former-trouble",
   "metadata": {},
   "outputs": [],
   "source": [
    "df_scaled = pd.DataFrame(scaler.transform(df_filtered), columns=df_filtered.columns)"
   ]
  },
  {
   "cell_type": "markdown",
   "id": "certified-angle",
   "metadata": {},
   "source": [
    "Now we have filtered and normalized data."
   ]
  },
  {
   "cell_type": "code",
   "execution_count": 38,
   "id": "double-alignment",
   "metadata": {},
   "outputs": [
    {
     "data": {
      "text/html": [
       "<div>\n",
       "<style scoped>\n",
       "    .dataframe tbody tr th:only-of-type {\n",
       "        vertical-align: middle;\n",
       "    }\n",
       "\n",
       "    .dataframe tbody tr th {\n",
       "        vertical-align: top;\n",
       "    }\n",
       "\n",
       "    .dataframe thead th {\n",
       "        text-align: right;\n",
       "    }\n",
       "</style>\n",
       "<table border=\"1\" class=\"dataframe\">\n",
       "  <thead>\n",
       "    <tr style=\"text-align: right;\">\n",
       "      <th></th>\n",
       "      <th>CO(GT)</th>\n",
       "      <th>PT08.S1(CO)</th>\n",
       "      <th>C6H6(GT)</th>\n",
       "      <th>PT08.S2(NMHC)</th>\n",
       "      <th>NOx(GT)</th>\n",
       "      <th>PT08.S3(NOx)</th>\n",
       "      <th>NO2(GT)</th>\n",
       "      <th>PT08.S4(NO2)</th>\n",
       "      <th>PT08.S5(O3)</th>\n",
       "      <th>T</th>\n",
       "      <th>RH</th>\n",
       "      <th>AH</th>\n",
       "    </tr>\n",
       "  </thead>\n",
       "  <tbody>\n",
       "    <tr>\n",
       "      <th>0</th>\n",
       "      <td>0.568514</td>\n",
       "      <td>1.481871</td>\n",
       "      <td>0.387663</td>\n",
       "      <td>0.501891</td>\n",
       "      <td>-0.425745</td>\n",
       "      <td>1.214421</td>\n",
       "      <td>0.068584</td>\n",
       "      <td>0.759481</td>\n",
       "      <td>0.773888</td>\n",
       "      <td>-0.647711</td>\n",
       "      <td>-0.019095</td>\n",
       "      <td>-0.789958</td>\n",
       "    </tr>\n",
       "    <tr>\n",
       "      <th>1</th>\n",
       "      <td>-0.058443</td>\n",
       "      <td>1.098949</td>\n",
       "      <td>-0.045751</td>\n",
       "      <td>0.083102</td>\n",
       "      <td>-0.875043</td>\n",
       "      <td>1.814324</td>\n",
       "      <td>-0.532293</td>\n",
       "      <td>0.309939</td>\n",
       "      <td>-0.141816</td>\n",
       "      <td>-0.685462</td>\n",
       "      <td>-0.092708</td>\n",
       "      <td>-0.878313</td>\n",
       "    </tr>\n",
       "    <tr>\n",
       "      <th>2</th>\n",
       "      <td>0.150542</td>\n",
       "      <td>1.718381</td>\n",
       "      <td>-0.115097</td>\n",
       "      <td>0.009469</td>\n",
       "      <td>-0.675355</td>\n",
       "      <td>1.641470</td>\n",
       "      <td>0.097197</td>\n",
       "      <td>0.296419</td>\n",
       "      <td>0.173730</td>\n",
       "      <td>-0.861632</td>\n",
       "      <td>0.293761</td>\n",
       "      <td>-0.810747</td>\n",
       "    </tr>\n",
       "    <tr>\n",
       "      <th>3</th>\n",
       "      <td>0.150542</td>\n",
       "      <td>1.571970</td>\n",
       "      <td>-0.080424</td>\n",
       "      <td>0.050887</td>\n",
       "      <td>-0.382955</td>\n",
       "      <td>1.397442</td>\n",
       "      <td>0.326102</td>\n",
       "      <td>0.394439</td>\n",
       "      <td>0.572804</td>\n",
       "      <td>-0.974885</td>\n",
       "      <td>0.661826</td>\n",
       "      <td>-0.710903</td>\n",
       "    </tr>\n",
       "    <tr>\n",
       "      <th>4</th>\n",
       "      <td>-0.476415</td>\n",
       "      <td>0.986325</td>\n",
       "      <td>-0.548511</td>\n",
       "      <td>-0.464545</td>\n",
       "      <td>-0.675355</td>\n",
       "      <td>1.971925</td>\n",
       "      <td>0.154423</td>\n",
       "      <td>0.076718</td>\n",
       "      <td>0.285100</td>\n",
       "      <td>-0.949718</td>\n",
       "      <td>0.637288</td>\n",
       "      <td>-0.705159</td>\n",
       "    </tr>\n",
       "  </tbody>\n",
       "</table>\n",
       "</div>"
      ],
      "text/plain": [
       "     CO(GT)  PT08.S1(CO)  C6H6(GT)  PT08.S2(NMHC)   NOx(GT)  PT08.S3(NOx)  \\\n",
       "0  0.568514     1.481871  0.387663       0.501891 -0.425745      1.214421   \n",
       "1 -0.058443     1.098949 -0.045751       0.083102 -0.875043      1.814324   \n",
       "2  0.150542     1.718381 -0.115097       0.009469 -0.675355      1.641470   \n",
       "3  0.150542     1.571970 -0.080424       0.050887 -0.382955      1.397442   \n",
       "4 -0.476415     0.986325 -0.548511      -0.464545 -0.675355      1.971925   \n",
       "\n",
       "    NO2(GT)  PT08.S4(NO2)  PT08.S5(O3)         T        RH        AH  \n",
       "0  0.068584      0.759481     0.773888 -0.647711 -0.019095 -0.789958  \n",
       "1 -0.532293      0.309939    -0.141816 -0.685462 -0.092708 -0.878313  \n",
       "2  0.097197      0.296419     0.173730 -0.861632  0.293761 -0.810747  \n",
       "3  0.326102      0.394439     0.572804 -0.974885  0.661826 -0.710903  \n",
       "4  0.154423      0.076718     0.285100 -0.949718  0.637288 -0.705159  "
      ]
     },
     "execution_count": 38,
     "metadata": {},
     "output_type": "execute_result"
    }
   ],
   "source": [
    "df_scaled.head()"
   ]
  },
  {
   "cell_type": "markdown",
   "id": "molecular-pound",
   "metadata": {},
   "source": [
    "### Aggregation"
   ]
  },
  {
   "cell_type": "markdown",
   "id": "continental-angel",
   "metadata": {},
   "source": [
    "Data aggregation is any process whereby data is gathered and expressed in a summary form."
   ]
  },
  {
   "cell_type": "code",
   "execution_count": 39,
   "id": "packed-checklist",
   "metadata": {},
   "outputs": [
    {
     "data": {
      "text/html": [
       "<div>\n",
       "<style scoped>\n",
       "    .dataframe tbody tr th:only-of-type {\n",
       "        vertical-align: middle;\n",
       "    }\n",
       "\n",
       "    .dataframe tbody tr th {\n",
       "        vertical-align: top;\n",
       "    }\n",
       "\n",
       "    .dataframe thead th {\n",
       "        text-align: right;\n",
       "    }\n",
       "</style>\n",
       "<table border=\"1\" class=\"dataframe\">\n",
       "  <thead>\n",
       "    <tr style=\"text-align: right;\">\n",
       "      <th></th>\n",
       "      <th>CO(GT)</th>\n",
       "      <th>PT08.S1(CO)</th>\n",
       "      <th>C6H6(GT)</th>\n",
       "      <th>PT08.S2(NMHC)</th>\n",
       "      <th>NOx(GT)</th>\n",
       "      <th>PT08.S3(NOx)</th>\n",
       "      <th>NO2(GT)</th>\n",
       "      <th>PT08.S4(NO2)</th>\n",
       "      <th>PT08.S5(O3)</th>\n",
       "      <th>T</th>\n",
       "      <th>RH</th>\n",
       "      <th>AH</th>\n",
       "    </tr>\n",
       "  </thead>\n",
       "  <tbody>\n",
       "    <tr>\n",
       "      <th>sum</th>\n",
       "      <td>-1.250555e-12</td>\n",
       "      <td>4.433787e-12</td>\n",
       "      <td>4.547474e-13</td>\n",
       "      <td>-1.989520e-13</td>\n",
       "      <td>9.094947e-13</td>\n",
       "      <td>-1.364242e-12</td>\n",
       "      <td>-1.136868e-12</td>\n",
       "      <td>0.000000</td>\n",
       "      <td>1.136868e-13</td>\n",
       "      <td>-1.136868e-12</td>\n",
       "      <td>3.183231e-12</td>\n",
       "      <td>-3.410605e-13</td>\n",
       "    </tr>\n",
       "    <tr>\n",
       "      <th>max</th>\n",
       "      <td>3.703299e+00</td>\n",
       "      <td>2.895302e+00</td>\n",
       "      <td>3.404223e+00</td>\n",
       "      <td>2.747703e+00</td>\n",
       "      <td>4.145676e+00</td>\n",
       "      <td>3.415760e+00</td>\n",
       "      <td>3.101578e+00</td>\n",
       "      <td>2.479909</td>\n",
       "      <td>2.930125e+00</td>\n",
       "      <td>2.384933e+00</td>\n",
       "      <td>1.962323e+00</td>\n",
       "      <td>2.257894e+00</td>\n",
       "    </tr>\n",
       "    <tr>\n",
       "      <th>min</th>\n",
       "      <td>-1.625836e+00</td>\n",
       "      <td>-1.823643e+00</td>\n",
       "      <td>-1.484685e+00</td>\n",
       "      <td>-1.987831e+00</td>\n",
       "      <td>-1.409920e+00</td>\n",
       "      <td>-1.932530e+00</td>\n",
       "      <td>-2.163242e+00</td>\n",
       "      <td>-2.275773</td>\n",
       "      <td>-1.957758e+00</td>\n",
       "      <td>-1.943821e+00</td>\n",
       "      <td>-1.994378e+00</td>\n",
       "      <td>-1.948973e+00</td>\n",
       "    </tr>\n",
       "    <tr>\n",
       "      <th>mean</th>\n",
       "      <td>-1.828564e-16</td>\n",
       "      <td>6.483092e-16</td>\n",
       "      <td>6.649325e-17</td>\n",
       "      <td>-2.909080e-17</td>\n",
       "      <td>1.329865e-16</td>\n",
       "      <td>-1.994798e-16</td>\n",
       "      <td>-1.662331e-16</td>\n",
       "      <td>0.000000</td>\n",
       "      <td>1.662331e-17</td>\n",
       "      <td>-1.662331e-16</td>\n",
       "      <td>4.654528e-16</td>\n",
       "      <td>-4.986994e-17</td>\n",
       "    </tr>\n",
       "  </tbody>\n",
       "</table>\n",
       "</div>"
      ],
      "text/plain": [
       "            CO(GT)   PT08.S1(CO)      C6H6(GT)  PT08.S2(NMHC)       NOx(GT)  \\\n",
       "sum  -1.250555e-12  4.433787e-12  4.547474e-13  -1.989520e-13  9.094947e-13   \n",
       "max   3.703299e+00  2.895302e+00  3.404223e+00   2.747703e+00  4.145676e+00   \n",
       "min  -1.625836e+00 -1.823643e+00 -1.484685e+00  -1.987831e+00 -1.409920e+00   \n",
       "mean -1.828564e-16  6.483092e-16  6.649325e-17  -2.909080e-17  1.329865e-16   \n",
       "\n",
       "      PT08.S3(NOx)       NO2(GT)  PT08.S4(NO2)   PT08.S5(O3)             T  \\\n",
       "sum  -1.364242e-12 -1.136868e-12      0.000000  1.136868e-13 -1.136868e-12   \n",
       "max   3.415760e+00  3.101578e+00      2.479909  2.930125e+00  2.384933e+00   \n",
       "min  -1.932530e+00 -2.163242e+00     -2.275773 -1.957758e+00 -1.943821e+00   \n",
       "mean -1.994798e-16 -1.662331e-16      0.000000  1.662331e-17 -1.662331e-16   \n",
       "\n",
       "                RH            AH  \n",
       "sum   3.183231e-12 -3.410605e-13  \n",
       "max   1.962323e+00  2.257894e+00  \n",
       "min  -1.994378e+00 -1.948973e+00  \n",
       "mean  4.654528e-16 -4.986994e-17  "
      ]
     },
     "execution_count": 39,
     "metadata": {},
     "output_type": "execute_result"
    }
   ],
   "source": [
    "df_scaled.agg(['sum','max','min','mean'])"
   ]
  },
  {
   "cell_type": "markdown",
   "id": "abroad-little",
   "metadata": {},
   "source": [
    "### Generalization"
   ]
  },
  {
   "cell_type": "markdown",
   "id": "accepted-journalist",
   "metadata": {},
   "source": [
    "Data generalization is the process of creating a more broad categorization of data.\n",
    "\n",
    "In this part, I grouped data as Reference, Nominal and Humidity which are the attribute of columns."
   ]
  },
  {
   "cell_type": "code",
   "execution_count": 40,
   "id": "existing-donor",
   "metadata": {},
   "outputs": [
    {
     "data": {
      "text/plain": [
       "Index(['CO(GT)', 'PT08.S1(CO)', 'C6H6(GT)', 'PT08.S2(NMHC)', 'NOx(GT)',\n",
       "       'PT08.S3(NOx)', 'NO2(GT)', 'PT08.S4(NO2)', 'PT08.S5(O3)', 'T', 'RH',\n",
       "       'AH'],\n",
       "      dtype='object')"
      ]
     },
     "execution_count": 40,
     "metadata": {},
     "output_type": "execute_result"
    }
   ],
   "source": [
    "df_scaled.columns"
   ]
  },
  {
   "cell_type": "code",
   "execution_count": 41,
   "id": "alone-output",
   "metadata": {},
   "outputs": [],
   "source": [
    "list_of_reference = list(zip(df_scaled['CO(GT)'],df_scaled['C6H6(GT)'],df_scaled['NOx(GT)'],df_scaled['NO2(GT)'],))\n",
    "list_of_nominal = list(zip(df_scaled['PT08.S1(CO)'], df_scaled['PT08.S2(NMHC)'],df_scaled['PT08.S3(NOx)'],df_scaled['PT08.S4(NO2)'],df_scaled['PT08.S5(O3)']))\n",
    "list_of_humidity = list(zip(df_scaled['T'], df_scaled['RH'],df_scaled['AH']))\n",
    "\n",
    "df_reference = pd.DataFrame(list_of_reference,columns=['CO(GT)','C6H6(GT)','NOx(GT)','NO2(GT)'])\n",
    "df_nominally = pd.DataFrame(list_of_nominal,columns=['PT08.S1(CO)','PT08.S2(NMHC)','PT08.S3(NOx)','PT08.S4(NO2)','PT08.S5(O3)'])\n",
    "df_humidity = pd.DataFrame(list_of_humidity,columns=['T','RH','AH'])"
   ]
  },
  {
   "cell_type": "markdown",
   "id": "stock-overall",
   "metadata": {},
   "source": [
    "As we can see, dataframe is now multiindex and has a hierarchy.\n",
    "\n",
    "Reference --> CO(GT), C6H6(GT), NOx(GT), NO2(GT)\n",
    "\n",
    "Nominal --> PT08.S1(CO), PT08.S2(NMHC), PT08.S3(NOx), PT08.S4(NO2), PT08.S5(O3)\n",
    "\n",
    "Humidity --> T, RH, AH"
   ]
  },
  {
   "cell_type": "code",
   "execution_count": 42,
   "id": "metropolitan-float",
   "metadata": {},
   "outputs": [
    {
     "data": {
      "text/html": [
       "<div>\n",
       "<style scoped>\n",
       "    .dataframe tbody tr th:only-of-type {\n",
       "        vertical-align: middle;\n",
       "    }\n",
       "\n",
       "    .dataframe tbody tr th {\n",
       "        vertical-align: top;\n",
       "    }\n",
       "\n",
       "    .dataframe thead tr th {\n",
       "        text-align: left;\n",
       "    }\n",
       "</style>\n",
       "<table border=\"1\" class=\"dataframe\">\n",
       "  <thead>\n",
       "    <tr>\n",
       "      <th></th>\n",
       "      <th colspan=\"4\" halign=\"left\">Reference</th>\n",
       "      <th colspan=\"5\" halign=\"left\">Nominal</th>\n",
       "      <th colspan=\"3\" halign=\"left\">Humidity</th>\n",
       "    </tr>\n",
       "    <tr>\n",
       "      <th></th>\n",
       "      <th>CO(GT)</th>\n",
       "      <th>C6H6(GT)</th>\n",
       "      <th>NOx(GT)</th>\n",
       "      <th>NO2(GT)</th>\n",
       "      <th>PT08.S1(CO)</th>\n",
       "      <th>PT08.S2(NMHC)</th>\n",
       "      <th>PT08.S3(NOx)</th>\n",
       "      <th>PT08.S4(NO2)</th>\n",
       "      <th>PT08.S5(O3)</th>\n",
       "      <th>T</th>\n",
       "      <th>RH</th>\n",
       "      <th>AH</th>\n",
       "    </tr>\n",
       "  </thead>\n",
       "  <tbody>\n",
       "    <tr>\n",
       "      <th>0</th>\n",
       "      <td>0.568514</td>\n",
       "      <td>0.387663</td>\n",
       "      <td>-0.425745</td>\n",
       "      <td>0.068584</td>\n",
       "      <td>1.481871</td>\n",
       "      <td>0.501891</td>\n",
       "      <td>1.214421</td>\n",
       "      <td>0.759481</td>\n",
       "      <td>0.773888</td>\n",
       "      <td>-0.647711</td>\n",
       "      <td>-0.019095</td>\n",
       "      <td>-0.789958</td>\n",
       "    </tr>\n",
       "    <tr>\n",
       "      <th>1</th>\n",
       "      <td>-0.058443</td>\n",
       "      <td>-0.045751</td>\n",
       "      <td>-0.875043</td>\n",
       "      <td>-0.532293</td>\n",
       "      <td>1.098949</td>\n",
       "      <td>0.083102</td>\n",
       "      <td>1.814324</td>\n",
       "      <td>0.309939</td>\n",
       "      <td>-0.141816</td>\n",
       "      <td>-0.685462</td>\n",
       "      <td>-0.092708</td>\n",
       "      <td>-0.878313</td>\n",
       "    </tr>\n",
       "    <tr>\n",
       "      <th>2</th>\n",
       "      <td>0.150542</td>\n",
       "      <td>-0.115097</td>\n",
       "      <td>-0.675355</td>\n",
       "      <td>0.097197</td>\n",
       "      <td>1.718381</td>\n",
       "      <td>0.009469</td>\n",
       "      <td>1.641470</td>\n",
       "      <td>0.296419</td>\n",
       "      <td>0.173730</td>\n",
       "      <td>-0.861632</td>\n",
       "      <td>0.293761</td>\n",
       "      <td>-0.810747</td>\n",
       "    </tr>\n",
       "    <tr>\n",
       "      <th>3</th>\n",
       "      <td>0.150542</td>\n",
       "      <td>-0.080424</td>\n",
       "      <td>-0.382955</td>\n",
       "      <td>0.326102</td>\n",
       "      <td>1.571970</td>\n",
       "      <td>0.050887</td>\n",
       "      <td>1.397442</td>\n",
       "      <td>0.394439</td>\n",
       "      <td>0.572804</td>\n",
       "      <td>-0.974885</td>\n",
       "      <td>0.661826</td>\n",
       "      <td>-0.710903</td>\n",
       "    </tr>\n",
       "    <tr>\n",
       "      <th>4</th>\n",
       "      <td>-0.476415</td>\n",
       "      <td>-0.548511</td>\n",
       "      <td>-0.675355</td>\n",
       "      <td>0.154423</td>\n",
       "      <td>0.986325</td>\n",
       "      <td>-0.464545</td>\n",
       "      <td>1.971925</td>\n",
       "      <td>0.076718</td>\n",
       "      <td>0.285100</td>\n",
       "      <td>-0.949718</td>\n",
       "      <td>0.637288</td>\n",
       "      <td>-0.705159</td>\n",
       "    </tr>\n",
       "  </tbody>\n",
       "</table>\n",
       "</div>"
      ],
      "text/plain": [
       "  Reference                                   Nominal                \\\n",
       "     CO(GT)  C6H6(GT)   NOx(GT)   NO2(GT) PT08.S1(CO) PT08.S2(NMHC)   \n",
       "0  0.568514  0.387663 -0.425745  0.068584    1.481871      0.501891   \n",
       "1 -0.058443 -0.045751 -0.875043 -0.532293    1.098949      0.083102   \n",
       "2  0.150542 -0.115097 -0.675355  0.097197    1.718381      0.009469   \n",
       "3  0.150542 -0.080424 -0.382955  0.326102    1.571970      0.050887   \n",
       "4 -0.476415 -0.548511 -0.675355  0.154423    0.986325     -0.464545   \n",
       "\n",
       "                                         Humidity                      \n",
       "  PT08.S3(NOx) PT08.S4(NO2) PT08.S5(O3)         T        RH        AH  \n",
       "0     1.214421     0.759481    0.773888 -0.647711 -0.019095 -0.789958  \n",
       "1     1.814324     0.309939   -0.141816 -0.685462 -0.092708 -0.878313  \n",
       "2     1.641470     0.296419    0.173730 -0.861632  0.293761 -0.810747  \n",
       "3     1.397442     0.394439    0.572804 -0.974885  0.661826 -0.710903  \n",
       "4     1.971925     0.076718    0.285100 -0.949718  0.637288 -0.705159  "
      ]
     },
     "execution_count": 42,
     "metadata": {},
     "output_type": "execute_result"
    }
   ],
   "source": [
    "general_df = pd.concat([df_reference, df_nominally, df_humidity], axis=1, keys=['Reference', 'Nominal', 'Humidity'])\n",
    "general_df.head()"
   ]
  },
  {
   "cell_type": "code",
   "execution_count": 43,
   "id": "dress-insulin",
   "metadata": {},
   "outputs": [
    {
     "data": {
      "text/plain": [
       "MultiIndex([('Reference',        'CO(GT)'),\n",
       "            ('Reference',      'C6H6(GT)'),\n",
       "            ('Reference',       'NOx(GT)'),\n",
       "            ('Reference',       'NO2(GT)'),\n",
       "            (  'Nominal',   'PT08.S1(CO)'),\n",
       "            (  'Nominal', 'PT08.S2(NMHC)'),\n",
       "            (  'Nominal',  'PT08.S3(NOx)'),\n",
       "            (  'Nominal',  'PT08.S4(NO2)'),\n",
       "            (  'Nominal',   'PT08.S5(O3)'),\n",
       "            ( 'Humidity',             'T'),\n",
       "            ( 'Humidity',            'RH'),\n",
       "            ( 'Humidity',            'AH')],\n",
       "           )"
      ]
     },
     "execution_count": 43,
     "metadata": {},
     "output_type": "execute_result"
    }
   ],
   "source": [
    "general_df.columns"
   ]
  },
  {
   "cell_type": "markdown",
   "id": "monetary-light",
   "metadata": {},
   "source": [
    "### Attribute Construction"
   ]
  },
  {
   "cell_type": "markdown",
   "id": "competitive-small",
   "metadata": {},
   "source": [
    "Replacing or adding new attributes inferred by existing attributes. In this part, I found a new feature with multiply of Temperature and Relative Humidity columns.  "
   ]
  },
  {
   "cell_type": "code",
   "execution_count": 44,
   "id": "unavailable-teaching",
   "metadata": {},
   "outputs": [],
   "source": [
    "temp_based_relative_humidity = []\n",
    "for i in range(len(general_df)):\n",
    "    TBRH = (general_df['Humidity']['T'][i] * general_df['Humidity']['RH'][i]) / 100\n",
    "    temp_based_relative_humidity.append(round(TBRH,2))"
   ]
  },
  {
   "cell_type": "code",
   "execution_count": 45,
   "id": "steady-massachusetts",
   "metadata": {},
   "outputs": [
    {
     "data": {
      "text/html": [
       "<div>\n",
       "<style scoped>\n",
       "    .dataframe tbody tr th:only-of-type {\n",
       "        vertical-align: middle;\n",
       "    }\n",
       "\n",
       "    .dataframe tbody tr th {\n",
       "        vertical-align: top;\n",
       "    }\n",
       "\n",
       "    .dataframe thead tr th {\n",
       "        text-align: left;\n",
       "    }\n",
       "</style>\n",
       "<table border=\"1\" class=\"dataframe\">\n",
       "  <thead>\n",
       "    <tr>\n",
       "      <th></th>\n",
       "      <th colspan=\"4\" halign=\"left\">Reference</th>\n",
       "      <th colspan=\"5\" halign=\"left\">Nominal</th>\n",
       "      <th colspan=\"4\" halign=\"left\">Humidity</th>\n",
       "    </tr>\n",
       "    <tr>\n",
       "      <th></th>\n",
       "      <th>CO(GT)</th>\n",
       "      <th>C6H6(GT)</th>\n",
       "      <th>NOx(GT)</th>\n",
       "      <th>NO2(GT)</th>\n",
       "      <th>PT08.S1(CO)</th>\n",
       "      <th>PT08.S2(NMHC)</th>\n",
       "      <th>PT08.S3(NOx)</th>\n",
       "      <th>PT08.S4(NO2)</th>\n",
       "      <th>PT08.S5(O3)</th>\n",
       "      <th>T</th>\n",
       "      <th>RH</th>\n",
       "      <th>AH</th>\n",
       "      <th>TBRH</th>\n",
       "    </tr>\n",
       "  </thead>\n",
       "  <tbody>\n",
       "    <tr>\n",
       "      <th>0</th>\n",
       "      <td>0.568514</td>\n",
       "      <td>0.387663</td>\n",
       "      <td>-0.425745</td>\n",
       "      <td>0.068584</td>\n",
       "      <td>1.481871</td>\n",
       "      <td>0.501891</td>\n",
       "      <td>1.214421</td>\n",
       "      <td>0.759481</td>\n",
       "      <td>0.773888</td>\n",
       "      <td>-0.647711</td>\n",
       "      <td>-0.019095</td>\n",
       "      <td>-0.789958</td>\n",
       "      <td>0.00</td>\n",
       "    </tr>\n",
       "    <tr>\n",
       "      <th>1</th>\n",
       "      <td>-0.058443</td>\n",
       "      <td>-0.045751</td>\n",
       "      <td>-0.875043</td>\n",
       "      <td>-0.532293</td>\n",
       "      <td>1.098949</td>\n",
       "      <td>0.083102</td>\n",
       "      <td>1.814324</td>\n",
       "      <td>0.309939</td>\n",
       "      <td>-0.141816</td>\n",
       "      <td>-0.685462</td>\n",
       "      <td>-0.092708</td>\n",
       "      <td>-0.878313</td>\n",
       "      <td>0.00</td>\n",
       "    </tr>\n",
       "    <tr>\n",
       "      <th>2</th>\n",
       "      <td>0.150542</td>\n",
       "      <td>-0.115097</td>\n",
       "      <td>-0.675355</td>\n",
       "      <td>0.097197</td>\n",
       "      <td>1.718381</td>\n",
       "      <td>0.009469</td>\n",
       "      <td>1.641470</td>\n",
       "      <td>0.296419</td>\n",
       "      <td>0.173730</td>\n",
       "      <td>-0.861632</td>\n",
       "      <td>0.293761</td>\n",
       "      <td>-0.810747</td>\n",
       "      <td>-0.00</td>\n",
       "    </tr>\n",
       "    <tr>\n",
       "      <th>3</th>\n",
       "      <td>0.150542</td>\n",
       "      <td>-0.080424</td>\n",
       "      <td>-0.382955</td>\n",
       "      <td>0.326102</td>\n",
       "      <td>1.571970</td>\n",
       "      <td>0.050887</td>\n",
       "      <td>1.397442</td>\n",
       "      <td>0.394439</td>\n",
       "      <td>0.572804</td>\n",
       "      <td>-0.974885</td>\n",
       "      <td>0.661826</td>\n",
       "      <td>-0.710903</td>\n",
       "      <td>-0.01</td>\n",
       "    </tr>\n",
       "    <tr>\n",
       "      <th>4</th>\n",
       "      <td>-0.476415</td>\n",
       "      <td>-0.548511</td>\n",
       "      <td>-0.675355</td>\n",
       "      <td>0.154423</td>\n",
       "      <td>0.986325</td>\n",
       "      <td>-0.464545</td>\n",
       "      <td>1.971925</td>\n",
       "      <td>0.076718</td>\n",
       "      <td>0.285100</td>\n",
       "      <td>-0.949718</td>\n",
       "      <td>0.637288</td>\n",
       "      <td>-0.705159</td>\n",
       "      <td>-0.01</td>\n",
       "    </tr>\n",
       "  </tbody>\n",
       "</table>\n",
       "</div>"
      ],
      "text/plain": [
       "  Reference                                   Nominal                \\\n",
       "     CO(GT)  C6H6(GT)   NOx(GT)   NO2(GT) PT08.S1(CO) PT08.S2(NMHC)   \n",
       "0  0.568514  0.387663 -0.425745  0.068584    1.481871      0.501891   \n",
       "1 -0.058443 -0.045751 -0.875043 -0.532293    1.098949      0.083102   \n",
       "2  0.150542 -0.115097 -0.675355  0.097197    1.718381      0.009469   \n",
       "3  0.150542 -0.080424 -0.382955  0.326102    1.571970      0.050887   \n",
       "4 -0.476415 -0.548511 -0.675355  0.154423    0.986325     -0.464545   \n",
       "\n",
       "                                         Humidity                            \n",
       "  PT08.S3(NOx) PT08.S4(NO2) PT08.S5(O3)         T        RH        AH  TBRH  \n",
       "0     1.214421     0.759481    0.773888 -0.647711 -0.019095 -0.789958  0.00  \n",
       "1     1.814324     0.309939   -0.141816 -0.685462 -0.092708 -0.878313  0.00  \n",
       "2     1.641470     0.296419    0.173730 -0.861632  0.293761 -0.810747 -0.00  \n",
       "3     1.397442     0.394439    0.572804 -0.974885  0.661826 -0.710903 -0.01  \n",
       "4     1.971925     0.076718    0.285100 -0.949718  0.637288 -0.705159 -0.01  "
      ]
     },
     "execution_count": 45,
     "metadata": {},
     "output_type": "execute_result"
    }
   ],
   "source": [
    "general_df['Humidity', 'TBRH'] = temp_based_relative_humidity\n",
    "general_df.head()"
   ]
  },
  {
   "cell_type": "markdown",
   "id": "funky-remove",
   "metadata": {},
   "source": [
    "## Data Reduction"
   ]
  },
  {
   "cell_type": "markdown",
   "id": "excited-emphasis",
   "metadata": {},
   "source": [
    "Data reduction is the process of reducing the amount of capacity required to store data. Data reduction can increase storage efficiency and reduce costs.\n",
    "\n",
    "In this part I showed some methods of feature selection and data reduction. Unselected columns could be dropped for data reduction. \n",
    "\n",
    "I choosed CO(GT) as targeted column for calculating importance of features."
   ]
  },
  {
   "cell_type": "markdown",
   "id": "registered-harbor",
   "metadata": {},
   "source": [
    "### Correlation Filtering"
   ]
  },
  {
   "cell_type": "code",
   "execution_count": 46,
   "id": "lucky-assessment",
   "metadata": {},
   "outputs": [
    {
     "data": {
      "text/plain": [
       "CO(GT)           1.000000\n",
       "PT08.S1(CO)      0.741248\n",
       "C6H6(GT)         0.803922\n",
       "PT08.S2(NMHC)    0.796217\n",
       "NOx(GT)          0.663018\n",
       "PT08.S3(NOx)    -0.627961\n",
       "NO2(GT)          0.592487\n",
       "PT08.S4(NO2)     0.524741\n",
       "PT08.S5(O3)      0.720157\n",
       "T                0.070383\n",
       "RH              -0.036314\n",
       "AH               0.044223\n",
       "Name: CO(GT), dtype: float64"
      ]
     },
     "execution_count": 46,
     "metadata": {},
     "output_type": "execute_result"
    }
   ],
   "source": [
    "corr = df_scaled.corr()['CO(GT)']\n",
    "corr"
   ]
  },
  {
   "cell_type": "code",
   "execution_count": 47,
   "id": "statewide-teens",
   "metadata": {},
   "outputs": [
    {
     "data": {
      "text/plain": [
       "<AxesSubplot:>"
      ]
     },
     "execution_count": 47,
     "metadata": {},
     "output_type": "execute_result"
    },
    {
     "data": {
      "image/png": "[encoded data removed]",
      "text/plain": [
       "<Figure size 432x288 with 2 Axes>"
      ]
     },
     "metadata": {
      "needs_background": "light"
     },
     "output_type": "display_data"
    }
   ],
   "source": [
    "sns.heatmap(df_scaled.corr(method='pearson'),annot = True)"
   ]
  },
  {
   "cell_type": "markdown",
   "id": "supported-gregory",
   "metadata": {},
   "source": [
    "### Forward Selection Wrapper"
   ]
  },
  {
   "cell_type": "code",
   "execution_count": 48,
   "id": "raising-leone",
   "metadata": {},
   "outputs": [],
   "source": [
    "from mlxtend.feature_selection import SequentialFeatureSelector as SFS\n",
    "from sklearn.linear_model import LinearRegression"
   ]
  },
  {
   "cell_type": "code",
   "execution_count": 49,
   "id": "killing-habitat",
   "metadata": {},
   "outputs": [],
   "source": [
    "X = df_scaled.drop(['CO(GT)'],axis=1)\n",
    "y = df_scaled['CO(GT)']"
   ]
  },
  {
   "cell_type": "code",
   "execution_count": 50,
   "id": "median-sampling",
   "metadata": {},
   "outputs": [],
   "source": [
    "sfs = SFS(LinearRegression(),k_features=5,forward=True,floating=False,scoring = 'r2',cv = 0)"
   ]
  },
  {
   "cell_type": "code",
   "execution_count": 51,
   "id": "heated-lyric",
   "metadata": {
    "scrolled": true
   },
   "outputs": [
    {
     "data": {
      "text/html": [
       "<style>#sk-container-id-2 {color: black;background-color: white;}#sk-container-id-2 pre{padding: 0;}#sk-container-id-2 div.sk-toggleable {background-color: white;}#sk-container-id-2 label.sk-toggleable__label {cursor: pointer;display: block;width: 100%;margin-bottom: 0;padding: 0.3em;box-sizing: border-box;text-align: center;}#sk-container-id-2 label.sk-toggleable__label-arrow:before {content: \"▸\";float: left;margin-right: 0.25em;color: #696969;}#sk-container-id-2 label.sk-toggleable__label-arrow:hover:before {color: black;}#sk-container-id-2 div.sk-estimator:hover label.sk-toggleable__label-arrow:before {color: black;}#sk-container-id-2 div.sk-toggleable__content {max-height: 0;max-width: 0;overflow: hidden;text-align: left;background-color: #f0f8ff;}#sk-container-id-2 div.sk-toggleable__content pre {margin: 0.2em;color: black;border-radius: 0.25em;background-color: #f0f8ff;}#sk-container-id-2 input.sk-toggleable__control:checked~div.sk-toggleable__content {max-height: 200px;max-width: 100%;overflow: auto;}#sk-container-id-2 input.sk-toggleable__control:checked~label.sk-toggleable__label-arrow:before {content: \"▾\";}#sk-container-id-2 div.sk-estimator input.sk-toggleable__control:checked~label.sk-toggleable__label {background-color: #d4ebff;}#sk-container-id-2 div.sk-label input.sk-toggleable__control:checked~label.sk-toggleable__label {background-color: #d4ebff;}#sk-container-id-2 input.sk-hidden--visually {border: 0;clip: rect(1px 1px 1px 1px);clip: rect(1px, 1px, 1px, 1px);height: 1px;margin: -1px;overflow: hidden;padding: 0;position: absolute;width: 1px;}#sk-container-id-2 div.sk-estimator {font-family: monospace;background-color: #f0f8ff;border: 1px dotted black;border-radius: 0.25em;box-sizing: border-box;margin-bottom: 0.5em;}#sk-container-id-2 div.sk-estimator:hover {background-color: #d4ebff;}#sk-container-id-2 div.sk-parallel-item::after {content: \"\";width: 100%;border-bottom: 1px solid gray;flex-grow: 1;}#sk-container-id-2 div.sk-label:hover label.sk-toggleable__label {background-color: #d4ebff;}#sk-container-id-2 div.sk-serial::before {content: \"\";position: absolute;border-left: 1px solid gray;box-sizing: border-box;top: 0;bottom: 0;left: 50%;z-index: 0;}#sk-container-id-2 div.sk-serial {display: flex;flex-direction: column;align-items: center;background-color: white;padding-right: 0.2em;padding-left: 0.2em;position: relative;}#sk-container-id-2 div.sk-item {position: relative;z-index: 1;}#sk-container-id-2 div.sk-parallel {display: flex;align-items: stretch;justify-content: center;background-color: white;position: relative;}#sk-container-id-2 div.sk-item::before, #sk-container-id-2 div.sk-parallel-item::before {content: \"\";position: absolute;border-left: 1px solid gray;box-sizing: border-box;top: 0;bottom: 0;left: 50%;z-index: -1;}#sk-container-id-2 div.sk-parallel-item {display: flex;flex-direction: column;z-index: 1;position: relative;background-color: white;}#sk-container-id-2 div.sk-parallel-item:first-child::after {align-self: flex-end;width: 50%;}#sk-container-id-2 div.sk-parallel-item:last-child::after {align-self: flex-start;width: 50%;}#sk-container-id-2 div.sk-parallel-item:only-child::after {width: 0;}#sk-container-id-2 div.sk-dashed-wrapped {border: 1px dashed gray;margin: 0 0.4em 0.5em 0.4em;box-sizing: border-box;padding-bottom: 0.4em;background-color: white;}#sk-container-id-2 div.sk-label label {font-family: monospace;font-weight: bold;display: inline-block;line-height: 1.2em;}#sk-container-id-2 div.sk-label-container {text-align: center;}#sk-container-id-2 div.sk-container {/* jupyter's `normalize.less` sets `[hidden] { display: none; }` but bootstrap.min.css set `[hidden] { display: none !important; }` so we also need the `!important` here to be able to override the default hidden behavior on the sphinx rendered scikit-learn.org. See: https://github.com/scikit-learn/scikit-learn/issues/21755 */display: inline-block !important;position: relative;}#sk-container-id-2 div.sk-text-repr-fallback {display: none;}</style><div id=\"sk-container-id-2\" class=\"sk-top-container\"><div class=\"sk-text-repr-fallback\"><pre>SequentialFeatureSelector(cv=0, estimator=LinearRegression(), k_features=(5, 5),\n",
       "                          scoring=&#x27;r2&#x27;)</pre><b>In a Jupyter environment, please rerun this cell to show the HTML representation or trust the notebook. <br />On GitHub, the HTML representation is unable to render, please try loading this page with nbviewer.org.</b></div><div class=\"sk-container\" hidden><div class=\"sk-item sk-dashed-wrapped\"><div class=\"sk-label-container\"><div class=\"sk-label sk-toggleable\"><input class=\"sk-toggleable__control sk-hidden--visually\" id=\"sk-estimator-id-2\" type=\"checkbox\" ><label for=\"sk-estimator-id-2\" class=\"sk-toggleable__label sk-toggleable__label-arrow\">SequentialFeatureSelector</label><div class=\"sk-toggleable__content\"><pre>SequentialFeatureSelector(cv=0, estimator=LinearRegression(), k_features=(5, 5),\n",
       "                          scoring=&#x27;r2&#x27;)</pre></div></div></div><div class=\"sk-parallel\"><div class=\"sk-parallel-item\"><div class=\"sk-item\"><div class=\"sk-label-container\"><div class=\"sk-label sk-toggleable\"><input class=\"sk-toggleable__control sk-hidden--visually\" id=\"sk-estimator-id-3\" type=\"checkbox\" ><label for=\"sk-estimator-id-3\" class=\"sk-toggleable__label sk-toggleable__label-arrow\">estimator: LinearRegression</label><div class=\"sk-toggleable__content\"><pre>LinearRegression()</pre></div></div></div><div class=\"sk-serial\"><div class=\"sk-item\"><div class=\"sk-estimator sk-toggleable\"><input class=\"sk-toggleable__control sk-hidden--visually\" id=\"sk-estimator-id-4\" type=\"checkbox\" ><label for=\"sk-estimator-id-4\" class=\"sk-toggleable__label sk-toggleable__label-arrow\">LinearRegression</label><div class=\"sk-toggleable__content\"><pre>LinearRegression()</pre></div></div></div></div></div></div></div></div></div></div>"
      ],
      "text/plain": [
       "SequentialFeatureSelector(cv=0, estimator=LinearRegression(), k_features=(5, 5),\n",
       "                          scoring='r2')"
      ]
     },
     "execution_count": 51,
     "metadata": {},
     "output_type": "execute_result"
    }
   ],
   "source": [
    "sfs.fit(X, y)"
   ]
  },
  {
   "cell_type": "markdown",
   "id": "stainless-sailing",
   "metadata": {},
   "source": [
    "Here are the columns that have most effect on target column. "
   ]
  },
  {
   "cell_type": "code",
   "execution_count": 52,
   "id": "lasting-chess",
   "metadata": {},
   "outputs": [
    {
     "data": {
      "text/html": [
       "<div>\n",
       "<style scoped>\n",
       "    .dataframe tbody tr th:only-of-type {\n",
       "        vertical-align: middle;\n",
       "    }\n",
       "\n",
       "    .dataframe tbody tr th {\n",
       "        vertical-align: top;\n",
       "    }\n",
       "\n",
       "    .dataframe thead th {\n",
       "        text-align: right;\n",
       "    }\n",
       "</style>\n",
       "<table border=\"1\" class=\"dataframe\">\n",
       "  <thead>\n",
       "    <tr style=\"text-align: right;\">\n",
       "      <th></th>\n",
       "      <th>feature_idx</th>\n",
       "      <th>cv_scores</th>\n",
       "      <th>avg_score</th>\n",
       "      <th>feature_names</th>\n",
       "    </tr>\n",
       "  </thead>\n",
       "  <tbody>\n",
       "    <tr>\n",
       "      <th>1</th>\n",
       "      <td>(1,)</td>\n",
       "      <td>[0.6462905416717422]</td>\n",
       "      <td>0.646291</td>\n",
       "      <td>(C6H6(GT),)</td>\n",
       "    </tr>\n",
       "    <tr>\n",
       "      <th>2</th>\n",
       "      <td>(1, 3)</td>\n",
       "      <td>[0.7176824735967446]</td>\n",
       "      <td>0.717682</td>\n",
       "      <td>(C6H6(GT), NOx(GT))</td>\n",
       "    </tr>\n",
       "    <tr>\n",
       "      <th>3</th>\n",
       "      <td>(1, 3, 5)</td>\n",
       "      <td>[0.7258982341086405]</td>\n",
       "      <td>0.725898</td>\n",
       "      <td>(C6H6(GT), NOx(GT), NO2(GT))</td>\n",
       "    </tr>\n",
       "    <tr>\n",
       "      <th>4</th>\n",
       "      <td>(1, 3, 5, 6)</td>\n",
       "      <td>[0.7354522871574241]</td>\n",
       "      <td>0.735452</td>\n",
       "      <td>(C6H6(GT), NOx(GT), NO2(GT), PT08.S4(NO2))</td>\n",
       "    </tr>\n",
       "    <tr>\n",
       "      <th>5</th>\n",
       "      <td>(1, 3, 5, 6, 10)</td>\n",
       "      <td>[0.7443176140226566]</td>\n",
       "      <td>0.744318</td>\n",
       "      <td>(C6H6(GT), NOx(GT), NO2(GT), PT08.S4(NO2), AH)</td>\n",
       "    </tr>\n",
       "  </tbody>\n",
       "</table>\n",
       "</div>"
      ],
      "text/plain": [
       "        feature_idx             cv_scores avg_score  \\\n",
       "1              (1,)  [0.6462905416717422]  0.646291   \n",
       "2            (1, 3)  [0.7176824735967446]  0.717682   \n",
       "3         (1, 3, 5)  [0.7258982341086405]  0.725898   \n",
       "4      (1, 3, 5, 6)  [0.7354522871574241]  0.735452   \n",
       "5  (1, 3, 5, 6, 10)  [0.7443176140226566]  0.744318   \n",
       "\n",
       "                                    feature_names  \n",
       "1                                     (C6H6(GT),)  \n",
       "2                             (C6H6(GT), NOx(GT))  \n",
       "3                    (C6H6(GT), NOx(GT), NO2(GT))  \n",
       "4      (C6H6(GT), NOx(GT), NO2(GT), PT08.S4(NO2))  \n",
       "5  (C6H6(GT), NOx(GT), NO2(GT), PT08.S4(NO2), AH)  "
      ]
     },
     "execution_count": 52,
     "metadata": {},
     "output_type": "execute_result"
    }
   ],
   "source": [
    "df_SFS_results = pd.DataFrame(sfs.subsets_).transpose()\n",
    "df_SFS_results"
   ]
  },
  {
   "cell_type": "markdown",
   "id": "ecological-overview",
   "metadata": {},
   "source": [
    "## Resources"
   ]
  },
  {
   "cell_type": "markdown",
   "id": "outside-break",
   "metadata": {},
   "source": [
    "--> https://www.javatpoint.com/data-preprocessing-machine-learning\n",
    "    \n",
    "--> https://mungingdata.com/apache-spark/aggregations/\n",
    "\n",
    "--> https://www.geeksforgeeks.org\n",
    "\n",
    "--> https://www.analyticsvidhya.com/blog/2021/08/data-preprocessing-in-data-mining-a-hands-on-guide/\n",
    "\n",
    "--> https://www.stackoverflow.com"
   ]
  }
 ],
 "metadata": {
  "kernelspec": {
   "display_name": "Python 3",
   "language": "python",
   "name": "python3"
  },
  "language_info": {
   "codemirror_mode": {
    "name": "ipython",
    "version": 3
   },
   "file_extension": ".py",
   "mimetype": "text/x-python",
   "name": "python",
   "nbconvert_exporter": "python",
   "pygments_lexer": "ipython3",
   "version": "3.8.8"
  }
 },
 "nbformat": 4,
 "nbformat_minor": 5
}
